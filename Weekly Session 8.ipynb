{
 "cells": [
  {
   "cell_type": "markdown",
   "metadata": {},
   "source": [
    "# Weekly Session 8\n",
    "\n",
    "## Goal\n",
    "To develop a basic familiarity and proficiency with numerical rootfinding.\n",
    "\n",
    "## Readings\n",
    "We will skip the remainder of the linear equations material (6.2) and move directly onto solutions of nonlinear equations.\n",
    "\n",
    "    6.3.1 Relaxation Method\n",
    "    \n",
    "    6.3.2 Convergence Rate\n",
    "    \n",
    "    6.3.4 Binary search -- a.k.a. the bisection method\n",
    "\n",
    "    6.3.5 Newton's method -- a.k.a. the Newton-Raphson method\n",
    "\n",
    "Although we will not specifically cover extremization in this week's handout, you should also read enough to get a basic idea of what is possible:\n",
    "\n",
    "    6.4 Maxima and minima of functions\n",
    "    \n",
    "## Overview\n",
    "\n",
    "We will start with a brief introduction to solving non-linear equations, using the relaxation method.  Then you will build up your own module named ```rootfind```, containing functions which implement each of the basic numerical rootfinding methods: the **bisection** method, the **Newton-Raphson** method (for when the derivative is known), and the **Dekker secant** method (for when it is not).  You will also see the value in *hybridizing* these latter two methods with the bisection method.  \n",
    "\n",
    "As always, scipy has some beautiful versions of these codes available.  So after you have written your own **Newton-Raphson** method, we will switch over to using library functions.\n",
    "\n",
    "https://docs.scipy.org/doc/scipy-0.15.1/reference/generated/scipy.optimize.newton.html"
   ]
  },
  {
   "cell_type": "code",
   "execution_count": 1,
   "metadata": {},
   "outputs": [
    {
     "data": {
      "text/html": [
       "<style>\n",
       "div.warn {\n",
       "    background-color: black;\n",
       "    border-color: #dFb5b4;\n",
       "    border-left: 5px solid #dfb5b4;\n",
       "    padding: 0.5em\n",
       "    color: white;\n",
       "    }\n",
       " </style>\n",
       "\n",
       " <style>\n",
       " div.answer {\n",
       "     background-color: lightblue;\n",
       "     border-color: #dFb5b4;\n",
       "     border-left: 5px solid #dfb5b4;\n",
       "     padding: 0.5em\n",
       "     }\n",
       "  </style>\n"
      ],
      "text/plain": [
       "<IPython.core.display.HTML object>"
      ]
     },
     "execution_count": 1,
     "metadata": {},
     "output_type": "execute_result"
    }
   ],
   "source": [
    "#For colored cells, currently blue cells, black text \n",
    "#https://stackoverflow.com/questions/18024769/adding-custom-styled-paragraphs-in-markdown-cells\n",
    "from IPython.core.display import HTML\n",
    "def css_styling():\n",
    "    styles = open(\"style.css\", \"r\").read()\n",
    "    return HTML(styles)\n",
    "css_styling()"
   ]
  },
  {
   "cell_type": "markdown",
   "metadata": {},
   "source": [
    "<div class=answer>\n",
    "*This should be a blue cell with black font if you set the filepath correctly*</font>\n",
    "<div/>"
   ]
  },
  {
   "cell_type": "markdown",
   "metadata": {},
   "source": [
    "## Exercise 0 - Jupyter Notebook \n",
    "\n",
    "### Keyboard Shortcuts\n",
    "\n",
    "Read this and try some out.\n",
    "http://maxmelnick.com/2016/04/19/python-beginner-tips-and-tricks.html\n",
    "\n",
    "My favorites are \"B,\" \"M,\" and \"Enter\" so far, but I'm working on more."
   ]
  },
  {
   "cell_type": "markdown",
   "metadata": {},
   "source": [
    "### Some plotting tricks\n",
    "\n",
    "Run the following code cell.  Notice the last (active) line resets the default font on your plots to a larger size.  You can use similar calls to change many more plotting defaults [link](https://matplotlib.org/api/matplotlib_configuration_api.html)."
   ]
  },
  {
   "cell_type": "code",
   "execution_count": 2,
   "metadata": {
    "collapsed": true
   },
   "outputs": [],
   "source": [
    "import math\n",
    "import numpy as np\n",
    "import matplotlib.pylab as plt\n",
    "%matplotlib inline\n",
    "\n",
    "plt.rcParams['font.size']=14\n",
    "\n",
    "#line below prints all possible default variables stored in the dictionary rcParams\n",
    "#plt.rcParams.keys()  "
   ]
  },
  {
   "cell_type": "markdown",
   "metadata": {},
   "source": [
    "### Passing function arguments\n",
    "These semester you have become very experienced passing functions as arguments in other functions.  For instance: "
   ]
  },
  {
   "cell_type": "code",
   "execution_count": 3,
   "metadata": {},
   "outputs": [
    {
     "name": "stdout",
     "output_type": "stream",
     "text": [
      "2\n"
     ]
    }
   ],
   "source": [
    "def q(x):\n",
    "    '''Calculates a simple mathematic function \n",
    "    \n",
    "    It is written using numpy's exponential function (not math) so it can operate on numpy arrays.\n",
    "    accepts: x - float\n",
    "    returns f(x) - float\n",
    "    '''\n",
    "    \n",
    "    return x\n",
    "\n",
    "def g(f,x):\n",
    "    '''Calls another function f(x) and prints its return value \n",
    "    \n",
    "    accepts: \n",
    "        x - float\n",
    "        f(x) - float\n",
    "    returns \n",
    "        None\n",
    "    '''\n",
    "    \n",
    "    print(f(x))\n",
    "    return None\n",
    "\n",
    "#call g to act on q at x=2, which prints q(x)=x.  \n",
    "#Very convoluted way to do something simple\n",
    "g(q,2)"
   ]
  },
  {
   "cell_type": "markdown",
   "metadata": {},
   "source": [
    "But what if we want to work with a more complicated function?  For instance what if I want to call the following: "
   ]
  },
  {
   "cell_type": "code",
   "execution_count": 4,
   "metadata": {
    "collapsed": true
   },
   "outputs": [],
   "source": [
    "def r(x,y,z):\n",
    "    return x+y+z"
   ]
  },
  {
   "cell_type": "markdown",
   "metadata": {},
   "source": [
    "You are probably thinking, this is easy - we can just do the same thing you did with ```x``` above, by passing it to g(f,x) as a separate argument.  But notice that you would have to redefine the function ```g``` to be ```g(f,x,y,z).```  Doesn't this seem inefficient?  \n",
    "\n",
    "*For instance, what if you want to write ```g``` so it could print the output of any function, not just design it for a single function?*\n",
    "\n",
    "Lets do that.  The method for doing so is to use a function parameter named ```*args``` or \"star args\".  "
   ]
  },
  {
   "cell_type": "code",
   "execution_count": 5,
   "metadata": {
    "collapsed": true
   },
   "outputs": [],
   "source": [
    "def g1(f,*args):\n",
    "    '''Calls another function f(x) and prints its return value \n",
    "    \n",
    "    accepts: \n",
    "        x - float # this is incorrect\n",
    "        f(x) - float\n",
    "    returns \n",
    "        None\n",
    "    '''\n",
    "    \n",
    "    print(\"You passed the function (object): \",f, \"with arguments:\" ,*args)\n",
    "\n",
    "    print(f(*args))\n",
    "    return None"
   ]
  },
  {
   "cell_type": "markdown",
   "metadata": {},
   "source": [
    "So lets run ```g1``` on the function r:"
   ]
  },
  {
   "cell_type": "code",
   "execution_count": 6,
   "metadata": {},
   "outputs": [
    {
     "name": "stdout",
     "output_type": "stream",
     "text": [
      "You passed the function (object):  <function r at 0x00000000089CCF28> with arguments: 1 2 3\n",
      "6\n"
     ]
    }
   ],
   "source": [
    "g1(r,1,2,3)"
   ]
  },
  {
   "cell_type": "markdown",
   "metadata": {},
   "source": [
    "Play around with the codes above.  For instance, \n",
    "* call ```g1``` on another function which takes 2 or 4 arguments (instead of 1 or 3). \n",
    "* print individual values of ```*args``` - **see the last link below for this**\n",
    "\n",
    "<div class=answer>\n",
    "Answer below.  Add code cells as necessary.\n",
    "<div/>"
   ]
  },
  {
   "cell_type": "code",
   "execution_count": 7,
   "metadata": {},
   "outputs": [
    {
     "name": "stdout",
     "output_type": "stream",
     "text": [
      "You passed the function (object):  <function q2 at 0x00000000089DE510> with arguments: 1 2 3 4\n",
      "10\n",
      "None\n"
     ]
    }
   ],
   "source": [
    "#your code here\n",
    "def q2 (x, y, z, m):\n",
    "    \"\"\"\n",
    "    Description: calculates a simple mathematic function\n",
    "    \n",
    "    Parameters: x - float\n",
    "                y - float\n",
    "                z - float\n",
    "                m - float\n",
    "    \n",
    "    Returned: float\n",
    "    \n",
    "    Usage:\n",
    "    (q2, 1, 2, 3, 4)\n",
    "    10\n",
    "    \"\"\"\n",
    "    return x + y + z + m\n",
    "\n",
    "print (g1 (q2, 1, 2, 3, 4))"
   ]
  },
  {
   "cell_type": "markdown",
   "metadata": {},
   "source": [
    "Want to know more?  Here are a few links to show you the big picture:\n",
    "* https://www.python-course.eu/passing_arguments.php\n",
    "* http://www.informit.com/articles/article.aspx?p=2314818\n",
    "* https://www.saltycrane.com/blog/2008/01/how-to-use-args-and-kwargs-in-python/"
   ]
  },
  {
   "cell_type": "markdown",
   "metadata": {},
   "source": [
    "## Exercise 1: Intro to the Relaxation Method and Convergence\n",
    "\n",
    "Newman uses $f(x) = 2 - e^{-x}$ as his first test case.  Let's start by plotting that and simply checking that the solution in Newman 6.3.1 is approximately correct.  "
   ]
  },
  {
   "cell_type": "code",
   "execution_count": 8,
   "metadata": {},
   "outputs": [
    {
     "data": {
      "image/png": "[encoded data removed]",
      "text/plain": [
       "<matplotlib.figure.Figure at 0x89bfef0>"
      ]
     },
     "metadata": {},
     "output_type": "display_data"
    }
   ],
   "source": [
    "def f(x):\n",
    "    '''Calculates a simple mathematic function from Newman 6.3.1\n",
    "    \n",
    "    It is written using numpy's exponential function (not math) so it can operate on numpy arrays.\n",
    "    accepts: x - float\n",
    "    returns f(x) - float\n",
    "    '''\n",
    "    \n",
    "    return 2 - np.exp(-x)\n",
    "\n",
    "#define the x-range\n",
    "x = np.linspace(0,3)\n",
    "\n",
    "#set up the plot\n",
    "fig = plt.figure(figsize=(7,7))\n",
    "ax = fig.add_subplot(111)\n",
    "\n",
    "#plot the function - both left hand side and right hand side\n",
    "ax.plot(x,f(x),label=r\"$2-e^{-x}$\")\n",
    "ax.plot(x,x,label=r\"$x$\",ls='--')\n",
    "\n",
    "#add good labels\n",
    "ax.legend(loc='best')\n",
    "ax.set_xlabel('x')\n",
    "ax.set_ylabel('f(x)')\n",
    "ax.set_aspect('equal')\n",
    "\n",
    "#add a label to be extra transparent\n",
    "text1 = ax.annotate(r'solution, $x^* \\approx 1.84$', xy=(1.84, 1.84), xytext=(1.8, 1.0),\n",
    "            arrowprops=dict(facecolor='black', shrink=0.05),\n",
    "            )"
   ]
  },
  {
   "cell_type": "markdown",
   "metadata": {},
   "source": [
    "*Notice how I added an arrow and text to the figure above?  This is very useful.*\n",
    "\n",
    "### Solve the equation $x=2-e^{-x}$ as in Newman, and include a measure of the error at each step."
   ]
  },
  {
   "cell_type": "code",
   "execution_count": 9,
   "metadata": {},
   "outputs": [
    {
     "name": "stdout",
     "output_type": "stream",
     "text": [
      "Error:  0.36787944117144233\n",
      "X:  1.6321205588285577\n",
      "Error:  0.04188993577969419\n",
      "X:  1.8044854658474119\n",
      "Error:  0.0060973763784867635\n",
      "X:  1.8354408939220457\n",
      "Error:  0.0009521753003407681\n",
      "X:  1.8404568553435368\n",
      "Error:  0.00015063143549983704\n",
      "X:  1.841255113911434\n",
      "Error:  2.3879760329019322e-05\n",
      "X:  1.8413817828128696\n",
      "Error:  3.786954967267934e-06\n",
      "X:  1.8414018735357267\n",
      "Error:  6.005835888898029e-07\n",
      "X:  1.8414050598547234\n",
      "Error:  9.524900588053624e-08\n",
      "X:  1.8414055651879888\n",
      "Error:  1.5105949355800835e-08\n",
      "X:  1.8414056453310121\n",
      "Error:  2.395717982334035e-09\n",
      "X:  1.8414056580412428\n",
      "Error:  3.799473104513187e-10\n",
      "X:  1.8414056600570134\n",
      "Error:  6.025745329714233e-11\n",
      "X:  1.841405660376703\n",
      "Error:  9.556497921368437e-12\n",
      "X:  1.841405660427404\n",
      "Error:  1.5156083298180408e-12\n",
      "X:  1.841405660435445\n",
      "Error:  2.404013543863151e-13\n",
      "X:  1.8414056604367204\n",
      "Error:  3.8085869166297916e-14\n",
      "X:  1.8414056604369224\n",
      "Error:  6.068627504518539e-15\n",
      "X:  1.8414056604369546\n",
      "Error:  9.626098800270417e-16\n",
      "X:  1.8414056604369597\n",
      "Error:  1.2555781043830903e-16\n",
      "X:  1.8414056604369604\n",
      "Error:  4.185260347943631e-17\n",
      "X:  1.8414056604369606\n"
     ]
    }
   ],
   "source": [
    "#your code here\n",
    "xPrev = 1\n",
    "c = 1e-16\n",
    "epsilon = c+1\n",
    "\n",
    "def fPrime(x):\n",
    "    \"\"\"\n",
    "    Description: calculates a simple mathematic function\n",
    "    \n",
    "    Parameters: x - float\n",
    "    \n",
    "    Returned: float\n",
    "    \n",
    "    Usage:\n",
    "    fPrime (0)\n",
    "    1\n",
    "    \"\"\"\n",
    "    return math.exp(-x)\n",
    "\n",
    "def relaxation_error(fPrime, xPrev, xCur):\n",
    "    \"\"\"\n",
    "    Description: determines relaxation error for the current x-value\n",
    "    \n",
    "    Parameters:fPrime - derivative of function having relaxation method applied to it\n",
    "                xPrev - previous x-value\n",
    "                xCur - current x-value\n",
    "    \n",
    "    Returned: error for current x-value \n",
    "    \n",
    "    Usage:\n",
    "    relaxation_error (fPrime, 2, 3)\n",
    "    0.15651764274966568\n",
    "    \"\"\"\n",
    "    return((xPrev - xCur)/(1-1/fPrime(xPrev)))\n",
    "\n",
    "while abs(epsilon) > c:\n",
    "    xCur = 2 - math.exp (-xPrev)\n",
    "    epsilon = relaxation_error(fPrime, xPrev, xCur)\n",
    "    xPrev = xCur\n",
    "    \n",
    "    print(\"Error: \",epsilon)\n",
    "    print (\"X: \", xCur)"
   ]
  },
  {
   "cell_type": "markdown",
   "metadata": {},
   "source": [
    "#### Prove mathematically that the Relaxation Method will work on the function above.  Show your work and briefly explain"
   ]
  },
  {
   "cell_type": "markdown",
   "metadata": {},
   "source": [
    "<div class=answer>\n",
    "<div/>\n",
    "Answer here (add a code cell to make your life easier.)\n",
    "\n",
    "The relaxation method will work if $|f'(x^*)|<1$ where $x^*$ is the solution.\n",
    "\n",
    "$|f'(1.8414056604369606)|<1$\n",
    "\n",
    "$|e^{-1.8414056604369606}|<1$"
   ]
  },
  {
   "cell_type": "code",
   "execution_count": 10,
   "metadata": {},
   "outputs": [
    {
     "data": {
      "text/plain": [
       "0.15859433956303937"
      ]
     },
     "execution_count": 10,
     "metadata": {},
     "output_type": "execute_result"
    }
   ],
   "source": [
    "math.exp(-1.8414056604369606)"
   ]
  },
  {
   "cell_type": "markdown",
   "metadata": {},
   "source": [
    "## Exercise 2\n",
    "\n",
    "### Newman's Exercise 6.10: The percolation transition\n",
    "\n",
    "Consider the equation $x = 1 - \\ e^{-cx}$, where $c$ is a known parameter and $x$ is unknown.  This equation arises in a variety of situations, including the physics of contact processes, mathematical models of epidemics, and the theory of random graphs.\n",
    "\n",
    "####  First plot the function for the case $c=2$.  \n",
    "Mark both the trivial solution and the (approximate) non-trivial solution. \n",
    "\n",
    "**Lab-like exercise: **\n",
    "Write a full description of your plots for this section, as if you were in lab.  While it might not be so clear why this is named *the percolation transition* hopefully it is very clear why this is called *the epidemic threshold*.  Please include some insights related to this name in your description of these plots."
   ]
  },
  {
   "cell_type": "code",
   "execution_count": 11,
   "metadata": {
    "collapsed": true
   },
   "outputs": [],
   "source": [
    "def relaxation (func, funcPrime, xInit, tolerance, *args):\n",
    "    \"\"\"\n",
    "    Description: calculates the solution to a nonlinear equation of a single variable\n",
    "    \n",
    "    Parameters: func - equation being evaluated\n",
    "                funcPrime - derivative of func\n",
    "                xInit - initial guess as to the solution for the equation\n",
    "                tolerance - tolerance solution will be within\n",
    "                *args - additional arguments for func\n",
    "    \n",
    "    Returned: solution to the nonlinear equation of a single variable, and the final error\n",
    "    \n",
    "    Usage:\n",
    "    c = 2\n",
    "    tolerance = 10e-6\n",
    "    xInit = 0.75\n",
    "    relaxation (f2, f2Prime, xInit, tolerance, c)\n",
    "    (0.796805894262 6.23591934574e-06)\n",
    "    \"\"\"\n",
    "    \n",
    "    def relaxationError(xPrev, xCur):\n",
    "        \"\"\"\n",
    "        Description: calculates relaxation error for the current x-value\n",
    "\n",
    "        Parameters: xPrev - previous x-value\n",
    "                    xCur - current x-value\n",
    "\n",
    "        Returned: relaxation error for the current x-value\n",
    "\n",
    "        Usage:\n",
    "        relaxationError (0.75, 0.776869839852) \n",
    "        0.0216544773257\n",
    "        \"\"\"\n",
    "        return((xPrev - xCur)/(1-1/funcPrime(xPrev, *args)))\n",
    "    \n",
    "    xPrev = xInit\n",
    "    xCur = func (xPrev, *args)\n",
    "    epsilon = relaxationError(xPrev, xCur)\n",
    "    xPrev = xCur\n",
    "    \n",
    "    while abs(epsilon) > tolerance:\n",
    "        xCur = func (xPrev, *args)\n",
    "        epsilon = relaxationError(xPrev, xCur)\n",
    "        xPrev = xCur\n",
    "    \n",
    "\n",
    "    return xCur, epsilon\n"
   ]
  },
  {
   "cell_type": "code",
   "execution_count": 12,
   "metadata": {},
   "outputs": [
    {
     "data": {
      "image/png": "[encoded data removed]",
      "text/plain": [
       "<matplotlib.figure.Figure at 0x91e5f98>"
      ]
     },
     "metadata": {},
     "output_type": "display_data"
    }
   ],
   "source": [
    "#your code here\n",
    "def f2 (x, c):\n",
    "    '''Calculates a simple mathematic function from Newman 6.3.1\n",
    "    \n",
    "    It is written using numpy's exponential function (not math) so it can operate on numpy arrays.\n",
    "    accepts: x - float\n",
    "             c - float\n",
    "    returns f(x, c) - float\n",
    "    '''\n",
    "    \n",
    "    return 1 - np.exp (-c * x)\n",
    "\n",
    "def f2Prime (x, c):\n",
    "    \"\"\"\n",
    "    Description: Calculates a simple mathematic function\n",
    "    \n",
    "    Parameters: x - float\n",
    "                c - float\n",
    "    \n",
    "    Returned: float\n",
    "    \n",
    "    \"\"\"\n",
    "    return c * np.exp (-c * x)\n",
    "\n",
    "c = 2\n",
    "tolerance = 10e-6\n",
    "xInit = 0.75\n",
    "\n",
    "solution, error = relaxation (f2, f2Prime, xInit, tolerance, c)\n",
    "\n",
    "#define the x-range\n",
    "x = np.linspace(-0.5, 1.5)\n",
    "\n",
    "#set up the plot\n",
    "fig = plt.figure(figsize=(7,7))\n",
    "ax = fig.add_subplot(111)\n",
    "\n",
    "#plot the function \n",
    "ax.plot(x, f2 (x, c), label = r\"$2-e^{-2x}$\")\n",
    "ax.plot(x, x, label=r\"$x$\", ls='--')\n",
    "\n",
    "#add good labels\n",
    "ax.legend(loc='best')\n",
    "ax.set_xlabel('x')\n",
    "ax.set_ylabel('f(x)')\n",
    "ax.set_title (\"Percolation Transition\")\n",
    "\n",
    "#add a label to be extra transparent\n",
    "text1 = ax.annotate(r'trivial solution, $x^* = 0$', xy=(0, 0), xytext=(0, -1.0),\n",
    "            arrowprops=dict(facecolor='black', shrink=0.05),\n",
    "            )\n",
    "text2 = ax.annotate(r'solution, $x^* \\approx {:.3}$'.format (solution), xy=(solution, f2(solution, c)), xytext=(solution, f2(solution, c) - 1),\n",
    "            arrowprops=dict(facecolor='black', shrink=0.05),\n",
    "            )"
   ]
  },
  {
   "cell_type": "markdown",
   "metadata": {},
   "source": [
    "<div class=answer>\n",
    "<div/>\n",
    "The x-axis is the different values of x, ranging from -0.5 to 1.5. The y-axis shows the values of the function when evaluated at the values of the x-axis, and ranges from -2.0 to 1.5. This figure shows the Percolation Transition function $2 - e^{-2x}$ as well as the function $y = x$. The figure shows the points at which the two functions cross at $x^* = 0$ and $x^* \\approx 0.787$. The Percolation Transition function is shown in blue, and the $y = x$ function is shown in green."
   ]
  },
  {
   "cell_type": "markdown",
   "metadata": {},
   "source": [
    "#### Write a program to solve this equation for $x$ using the relaxation method for the case $c=2$.  \n",
    "Calculate your solution to an accuracy of at least $10^{-6}$."
   ]
  },
  {
   "cell_type": "code",
   "execution_count": 13,
   "metadata": {},
   "outputs": [
    {
     "name": "stdout",
     "output_type": "stream",
     "text": [
      "Solution: 0.796805894262\n",
      "Error:    6.23591934574e-06\n"
     ]
    }
   ],
   "source": [
    "#your code here\n",
    "c = 2\n",
    "tolerance = 10e-6\n",
    "xInit = 0.75\n",
    "\n",
    "solution, error = relaxation (f2, f2Prime, xInit, tolerance, c)\n",
    "print (\"Solution:\", solution)\n",
    "print (\"Error:   \", error)"
   ]
  },
  {
   "cell_type": "markdown",
   "metadata": {},
   "source": [
    "#### Modify your program to calculate the solution for values of $c$ from 0 to 3 in steps of 0.01 and make a plot of $x$ as a function of $c$.  \n",
    "   \n",
    "   You should see a clear transition from a regime in which $x=0$ to a regime of nonzero $x$.   This is another example of a phase transition.   In physics this transition is known as the *percolation transition*;   in epidemiology it is the *epidemic threshold*."
   ]
  },
  {
   "cell_type": "code",
   "execution_count": 14,
   "metadata": {},
   "outputs": [
    {
     "name": "stderr",
     "output_type": "stream",
     "text": [
      "C:\\Users\\Unknown\\Anaconda3\\lib\\site-packages\\ipykernel_launcher.py:34: RuntimeWarning: divide by zero encountered in double_scalars\n"
     ]
    },
    {
     "data": {
      "text/plain": [
       "Text(0,0.5,'$2-e^{-cx}$ solutions')"
      ]
     },
     "execution_count": 14,
     "metadata": {},
     "output_type": "execute_result"
    },
    {
     "data": {
      "image/png": "[encoded data removed]",
      "text/plain": [
       "<matplotlib.figure.Figure at 0x92dc1d0>"
      ]
     },
     "metadata": {},
     "output_type": "display_data"
    }
   ],
   "source": [
    "#your code here\n",
    "cValues = np.arange (0, 3 + 0.01, 0.01, float)\n",
    "tolerance = 10e-6\n",
    "xInit = 1\n",
    "\n",
    "solutions = []\n",
    "errors = []\n",
    "\n",
    "#establish solution values for each c-value\n",
    "for c in cValues:\n",
    "    solution, error = relaxation (f2, f2Prime, xInit, tolerance, c)\n",
    "    solutions.append (solution)\n",
    "    errors.append (error)\n",
    "\n",
    "    \n",
    "#define the x-range\n",
    "x = np.linspace(-0.5, 1.5)\n",
    "\n",
    "#set up the plot\n",
    "fig = plt.figure(figsize=(7,7))\n",
    "ax = fig.add_subplot(111)\n",
    "\n",
    "#plot the function\n",
    "ax.plot(cValues, solutions)\n",
    "\n",
    "#add good labels\n",
    "ax.set_title (\"Solutions to the Percolation Function\")\n",
    "ax.set_xlabel('c')\n",
    "ax.set_ylabel(r\"$2-e^{-cx}$ solutions\")"
   ]
  },
  {
   "cell_type": "markdown",
   "metadata": {},
   "source": [
    "<div class=answer>\n",
    "<div/>\n",
    "The x-axis is the c-values at which the Percolation Function is being varied ranging from 0 to 3.0. The y-axis shows the solutions to the function $2 - e^{-cx}$ where c is the independant variable. The y-axis ranges from 0 to 1.0. The function is shown in blue. From c = 0 to c = 1 the function has a value of zero. The reason this region is zero is due to the solution method only checking for positive roots, so we lose data for this region. From c = 1 to c = 3 the function is increasing in value. The initial slope of the function at and after c = 1 is steep, and has a smooth transition to a shallow curve by a c-value around 2.25. \n",
    "\n",
    "This figure helps to show why this method might be called the epidemic threshold. The reason for this is because the slope is steep initially similiar to how an epidemic spreads rapidly initially. Then as a large part of the population is infected the slope decreases because not as many people are able to be infected."
   ]
  },
  {
   "cell_type": "markdown",
   "metadata": {},
   "source": [
    "## Exercise 3: Benchmark function for rootfinding\n",
    "You will use the function\n",
    "$$\n",
    "f(x)=\\cos x - x\n",
    "$$\n",
    "\n",
    "as a benchmark  in developing the following routines.  To orient yourself, first make a plot of the benchmark function. You will want to plot it over a\n",
    "reasonably wide range, *e.g.*, $-10\\leq x \\leq 10$, since you will be playing with different choices of initial intervals and guess points in this range.\n"
   ]
  },
  {
   "cell_type": "code",
   "execution_count": 15,
   "metadata": {},
   "outputs": [
    {
     "data": {
      "text/plain": [
       "Text(0,0.5,'cos(x) - x')"
      ]
     },
     "execution_count": 15,
     "metadata": {},
     "output_type": "execute_result"
    },
    {
     "data": {
      "image/png": "[encoded data removed]",
      "text/plain": [
       "<matplotlib.figure.Figure at 0x8f65860>"
      ]
     },
     "metadata": {},
     "output_type": "display_data"
    }
   ],
   "source": [
    "#your plot here\n",
    "#include the following line so you can see where your function crosses zero.\n",
    "#ax.axhline(y=0,ls='--',color='gray')\n",
    "\n",
    "def f_bench(x):\n",
    "    \"\"\"\n",
    "    Description: calculates a simple mathematic function\n",
    "    \n",
    "    Parameters:x - float\n",
    "    \n",
    "    Returned: float\n",
    "    \n",
    "    Usage:\n",
    "    f_bench (0)\n",
    "    1\n",
    "    \"\"\"\n",
    "    return np.cos (x) - x\n",
    "\n",
    "#define the x-range\n",
    "xValues = np.linspace(-10, 10)\n",
    "yValues = f_bench (xValues)\n",
    "\n",
    "\n",
    "#set up the plot\n",
    "fig = plt.figure(figsize=(7,7))\n",
    "\n",
    "#plot the function\n",
    "plt.plot(xValues, yValues)\n",
    "#plot y = 0\n",
    "plt.axhline(y=0,ls='--',color='gray')\n",
    "\n",
    "#add good labels\n",
    "plt.title (\"Benchmark function\")\n",
    "plt.xlabel(\"x\")\n",
    "plt.ylabel(\"cos(x) - x\")\n"
   ]
  },
  {
   "cell_type": "markdown",
   "metadata": {},
   "source": [
    "<div class=answer>\n",
    "<div/>\n",
    "The x-axis is the values of the independant variable from -10 to 10. The y-axis is the benchmark function $\\cos (x) - x$ at each given x-value and ranges from -10 to 10. The benchmark function has a decreasing slope that ranges from 0 to -1 with a period of $2\\pi$, and is shown in blue. The figure also shows $y = 0$ in a gray dashed line. "
   ]
  },
  {
   "cell_type": "markdown",
   "metadata": {},
   "source": [
    "## Exercise 4 - introduction to bisection"
   ]
  },
  {
   "cell_type": "markdown",
   "metadata": {},
   "source": [
    "For efficiency, I have provided a basic code on the bisection method.  Read the code below carefully and check that it is written as you would expect."
   ]
  },
  {
   "cell_type": "markdown",
   "metadata": {},
   "source": [
    "The bisection method is our baseline method, to which we will be\n",
    "comparing the other new members.  Moreover, we will be using bisection\n",
    "steps when we \"hybridize\" the bisection method with the other, more\n",
    "sophisticated rootfinding methods.  So, let us start off our new\n",
    "rootfind methods by bundling the code above into a function.  \n",
    "\n",
    "Take a close look, and make sure you understand the logic.  The loop structure is designed to provide a better starting point for the approach we will need to take with in the other rootfinding methods.\n",
    "\n",
    "For instance, all these other methods are based on the idea of finding successive approximations $x_i$ ($i=0$, $1$, $2$, $\\ldots$).  Then the \"error\" is estimated the difference between the two most recent approximate roots, *i.e.*,\n",
    "$$\n",
    "\\epsilon_i = x_i - x_{i-1}.\n",
    "$$"
   ]
  },
  {
   "cell_type": "code",
   "execution_count": 16,
   "metadata": {
    "collapsed": true
   },
   "outputs": [],
   "source": [
    "\"\"\" rootfind.py -- library of rootfinding routines\n",
    "     \n",
    "    Language: Python 3\n",
    "    Mark A. Caprio\n",
    "    University of Notre Dame\n",
    "    Written for Computational Methods in Physics, Spring 2014.\n",
    "\"\"\"\n",
    "\n",
    "def bisection(f,interval,tolerance,verbose=False):\n",
    "    \"\"\" Find root by bisection.\n",
    "\n",
    "    The 'approximation' x_i at each iteration is defined by the\n",
    "    midpoint of the interval.\n",
    "    \n",
    "    The 'error' x_i-x_(i-1) is defined by the change in midpoint from\n",
    "    the midpoint of the last interval.  (Of course, for bisection,\n",
    "    that is always half the width of the new interval.)\n",
    "\n",
    "    Returns None if the sign of the function does not change on the\n",
    "    given interval.  Otherwise, returns final midpoint x_i when\n",
    "    termination condition is reached.\n",
    "\n",
    "    f: function for rootfinding\n",
    "    interval: tuple containing initial interval endpoints (xa,xb)\n",
    "    tolerance: difference x_i-x_(i-1) at which search should terminate\n",
    "    verbose (optional): whether or not to print iteration log\n",
    "    \"\"\"\n",
    "\n",
    "    # set up initial bracketing interval\n",
    "    #   Note: Sign of function *must* change in this interval for method to work.\n",
    "    (xa,xb) = interval\n",
    "    fxa = f(xa)\n",
    "    fxb = f(xb)\n",
    "    if (fxa*fxb >=0):\n",
    "        # no sign change in interval\n",
    "        return None\n",
    "\n",
    "    # set up for first iteration\n",
    "    xm = (xb + xa)/2\n",
    "    error = (xb - xa)/2\n",
    "    iteration_count = 0\n",
    "\n",
    "    # bisect until tolerance reached\n",
    "    while (abs(error) > tolerance):\n",
    "\n",
    "        # increment iteration count\n",
    "        iteration_count += 1\n",
    "        \n",
    "        # evaluate function\n",
    "        fxa = f(xa)\n",
    "        fxb = f(xb)\n",
    "        fxm = f(xm)\n",
    "\n",
    "        # find which subinterval contains root\n",
    "        if (fxm == 0):\n",
    "            # accidentally landed on root (often occurs for \"toy\" test intervals)\n",
    "            xa = xm\n",
    "            xb = xm\n",
    "        elif ((fxa * fxm) < 0):\n",
    "            # sign change is in left half of interval\n",
    "            xb = xm\n",
    "        else:\n",
    "            # sign change is in right half of interval\n",
    "            xa = xm\n",
    "\n",
    "        # find new midpoint (and change in midpoint)\n",
    "        xm_old = xm\n",
    "        xm = (xb + xa)/2\n",
    "        error = xm - xm_old\n",
    "\n",
    "        # verbose iteration log\n",
    "        if (verbose):\n",
    "            print(\"iteration\", iteration_count, \"(bisection):\",\n",
    "                  \"interval\", (xa, xb), \"root\", xm)\n",
    "            \n",
    "    return xm #, iteration_count"
   ]
  },
  {
   "cell_type": "markdown",
   "metadata": {},
   "source": [
    " When this estimated error falls below the tolerance, we terminate and return the \"last guess\" $x_i$.  We can think about the bisection method somewhat the same way (at least, we can phrase the termination condition and return value the same way) if we think of the \"midpoint\" of our interval as $x_i$.  \n",
    " \n",
    " **See the usage example below:**"
   ]
  },
  {
   "cell_type": "code",
   "execution_count": 17,
   "metadata": {},
   "outputs": [
    {
     "name": "stdout",
     "output_type": "stream",
     "text": [
      "bisection(f_bench,(-1,0),1e-10,verbose=True)\n",
      "None\n",
      "bisection(f_bench,(0,1),1e-10,verbose=True)\n",
      "iteration 1 (bisection): interval (0.5, 1) root 0.75\n",
      "iteration 2 (bisection): interval (0.5, 0.75) root 0.625\n",
      "iteration 3 (bisection): interval (0.625, 0.75) root 0.6875\n",
      "iteration 4 (bisection): interval (0.6875, 0.75) root 0.71875\n",
      "iteration 5 (bisection): interval (0.71875, 0.75) root 0.734375\n",
      "iteration 6 (bisection): interval (0.734375, 0.75) root 0.7421875\n",
      "iteration 7 (bisection): interval (0.734375, 0.7421875) root 0.73828125\n",
      "iteration 8 (bisection): interval (0.73828125, 0.7421875) root 0.740234375\n",
      "iteration 9 (bisection): interval (0.73828125, 0.740234375) root 0.7392578125\n",
      "iteration 10 (bisection): interval (0.73828125, 0.7392578125) root 0.73876953125\n",
      "iteration 11 (bisection): interval (0.73876953125, 0.7392578125) root 0.739013671875\n",
      "iteration 12 (bisection): interval (0.739013671875, 0.7392578125) root 0.7391357421875\n",
      "iteration 13 (bisection): interval (0.739013671875, 0.7391357421875) root 0.73907470703125\n",
      "iteration 14 (bisection): interval (0.73907470703125, 0.7391357421875) root 0.739105224609375\n",
      "iteration 15 (bisection): interval (0.73907470703125, 0.739105224609375) root 0.7390899658203125\n",
      "iteration 16 (bisection): interval (0.73907470703125, 0.7390899658203125) root 0.7390823364257812\n",
      "iteration 17 (bisection): interval (0.7390823364257812, 0.7390899658203125) root 0.7390861511230469\n",
      "iteration 18 (bisection): interval (0.7390823364257812, 0.7390861511230469) root 0.7390842437744141\n",
      "iteration 19 (bisection): interval (0.7390842437744141, 0.7390861511230469) root 0.7390851974487305\n",
      "iteration 20 (bisection): interval (0.7390842437744141, 0.7390851974487305) root 0.7390847206115723\n",
      "iteration 21 (bisection): interval (0.7390847206115723, 0.7390851974487305) root 0.7390849590301514\n",
      "iteration 22 (bisection): interval (0.7390849590301514, 0.7390851974487305) root 0.7390850782394409\n",
      "iteration 23 (bisection): interval (0.7390850782394409, 0.7390851974487305) root 0.7390851378440857\n",
      "iteration 24 (bisection): interval (0.7390850782394409, 0.7390851378440857) root 0.7390851080417633\n",
      "iteration 25 (bisection): interval (0.7390851080417633, 0.7390851378440857) root 0.7390851229429245\n",
      "iteration 26 (bisection): interval (0.7390851229429245, 0.7390851378440857) root 0.7390851303935051\n",
      "iteration 27 (bisection): interval (0.7390851303935051, 0.7390851378440857) root 0.7390851341187954\n",
      "iteration 28 (bisection): interval (0.7390851303935051, 0.7390851341187954) root 0.7390851322561502\n",
      "iteration 29 (bisection): interval (0.7390851322561502, 0.7390851341187954) root 0.7390851331874728\n",
      "iteration 30 (bisection): interval (0.7390851331874728, 0.7390851341187954) root 0.7390851336531341\n",
      "iteration 31 (bisection): interval (0.7390851331874728, 0.7390851336531341) root 0.7390851334203035\n",
      "iteration 32 (bisection): interval (0.7390851331874728, 0.7390851334203035) root 0.7390851333038881\n",
      "iteration 33 (bisection): interval (0.7390851331874728, 0.7390851333038881) root 0.7390851332456805\n",
      "0.7390851332456805\n"
     ]
    }
   ],
   "source": [
    "# test code\n",
    "if (__name__ == \"__main__\"):\n",
    "\n",
    "    # read in external libraries\n",
    "    import math\n",
    "\n",
    "    # define function for rootfinding\n",
    "    def f_bench(x):\n",
    "        return math.cos(x) - x\n",
    "    def fp_bench(x):\n",
    "        return -math.sin(x) - 1\n",
    "\n",
    "    # bisection tests\n",
    "\n",
    "    print(\"bisection(f_bench,(-1,0),1e-10,verbose=True)\")\n",
    "    print(bisection(f_bench,(-1,0),1e-10,verbose=True))\n",
    "\n",
    "    print(\"bisection(f_bench,(0,1),1e-10,verbose=True)\")\n",
    "    print(bisection(f_bench,(0,1),1e-10,verbose=True))"
   ]
  },
  {
   "cell_type": "markdown",
   "metadata": {},
   "source": [
    "If the tolerance is $10^{-3}$, how many bisections do you expect to need?  What if the tolerance is $10^{-6}$ ?  Or $10^{-9}$ ?  Try this out, and record the number of iteration and the approximate root (or, rather, root-containing interval) you find in each case, for $\\cos x - x$.\n",
    " \n",
    " *Hint:* An incredibly-convenient almost-equality is $2^{10} = 1024 \\approx 1000 = 10^3$.  Remember this.  Forever.  This is why 1024 bytes make a \"kilobyte\" to a computer scientist."
   ]
  },
  {
   "cell_type": "code",
   "execution_count": 18,
   "metadata": {},
   "outputs": [
    {
     "name": "stdout",
     "output_type": "stream",
     "text": [
      "bisection(f_bench,(-1,0),0.001)\n",
      "0.7392578125\n",
      "bisection(f_bench,(-1,0),1e-06)\n",
      "0.7390851974487305\n",
      "bisection(f_bench,(-1,0),1e-09)\n",
      "0.7390851331874728\n"
     ]
    }
   ],
   "source": [
    "#your code here\n",
    "# define function for rootfinding\n",
    "\n",
    "def fp_bench(x):\n",
    "    \"\"\"\n",
    "    Description: calculates a simple mathematic function\n",
    "    \n",
    "    Parameters:x - float\n",
    "    \n",
    "    Returned:float\n",
    "    \n",
    "    Usage:\n",
    "    fp_bench (0)\n",
    "    -1\n",
    "    \"\"\"\n",
    "    return -math.sin(x) - 1\n",
    "\n",
    "tolerances = [1e-3, 1e-6, 1e-9]\n",
    "\n",
    "for t in tolerances:\n",
    "    print(\"bisection(f_bench,(-1,0),{})\".format (t))\n",
    "    print(bisection(f_bench,(0, 1), t))"
   ]
  },
  {
   "cell_type": "markdown",
   "metadata": {},
   "source": [
    "<div class=answer>\n",
    "<div/>\n",
    "Answer here\n",
    "\n",
    "We can tell that we will require fewer iterations when we allow for larger tolerance values. Since we are looking at larger tolerance values we can say the number of iterations for $10^{-3}$,  $10^{-6}$, and $10^{-9}$ will be less than the 33 required for $10^{-10}$. The exact number of bisections are given below.\n",
    "\n",
    "bisection(f_bench,(-1,0),0.001)  \n",
    "root: 0.7392578125, interations: 9\n",
    "\n",
    "bisection(f_bench,(-1,0),1e-06)  \n",
    "root: 0.7390851974487305, iterations: 19\n",
    "\n",
    "bisection(f_bench,(-1,0),1e-09)  \n",
    "root: 0.7390851331874728, iterations: 29"
   ]
  },
  {
   "cell_type": "markdown",
   "metadata": {},
   "source": [
    "Try ```bisection``` out on the benchmark function, using the interval $(0,1)$ and a tolerance $10^{-10}$.  How many iterations are required? "
   ]
  },
  {
   "cell_type": "code",
   "execution_count": 19,
   "metadata": {},
   "outputs": [
    {
     "name": "stdout",
     "output_type": "stream",
     "text": [
      "bisection(f_bench,(0,1),1e-10,verbose=True)\n",
      "iteration 1 (bisection): interval (0.5, 1) root 0.75\n",
      "iteration 2 (bisection): interval (0.5, 0.75) root 0.625\n",
      "iteration 3 (bisection): interval (0.625, 0.75) root 0.6875\n",
      "iteration 4 (bisection): interval (0.6875, 0.75) root 0.71875\n",
      "iteration 5 (bisection): interval (0.71875, 0.75) root 0.734375\n",
      "iteration 6 (bisection): interval (0.734375, 0.75) root 0.7421875\n",
      "iteration 7 (bisection): interval (0.734375, 0.7421875) root 0.73828125\n",
      "iteration 8 (bisection): interval (0.73828125, 0.7421875) root 0.740234375\n",
      "iteration 9 (bisection): interval (0.73828125, 0.740234375) root 0.7392578125\n",
      "iteration 10 (bisection): interval (0.73828125, 0.7392578125) root 0.73876953125\n",
      "iteration 11 (bisection): interval (0.73876953125, 0.7392578125) root 0.739013671875\n",
      "iteration 12 (bisection): interval (0.739013671875, 0.7392578125) root 0.7391357421875\n",
      "iteration 13 (bisection): interval (0.739013671875, 0.7391357421875) root 0.73907470703125\n",
      "iteration 14 (bisection): interval (0.73907470703125, 0.7391357421875) root 0.739105224609375\n",
      "iteration 15 (bisection): interval (0.73907470703125, 0.739105224609375) root 0.7390899658203125\n",
      "iteration 16 (bisection): interval (0.73907470703125, 0.7390899658203125) root 0.7390823364257812\n",
      "iteration 17 (bisection): interval (0.7390823364257812, 0.7390899658203125) root 0.7390861511230469\n",
      "iteration 18 (bisection): interval (0.7390823364257812, 0.7390861511230469) root 0.7390842437744141\n",
      "iteration 19 (bisection): interval (0.7390842437744141, 0.7390861511230469) root 0.7390851974487305\n",
      "iteration 20 (bisection): interval (0.7390842437744141, 0.7390851974487305) root 0.7390847206115723\n",
      "iteration 21 (bisection): interval (0.7390847206115723, 0.7390851974487305) root 0.7390849590301514\n",
      "iteration 22 (bisection): interval (0.7390849590301514, 0.7390851974487305) root 0.7390850782394409\n",
      "iteration 23 (bisection): interval (0.7390850782394409, 0.7390851974487305) root 0.7390851378440857\n",
      "iteration 24 (bisection): interval (0.7390850782394409, 0.7390851378440857) root 0.7390851080417633\n",
      "iteration 25 (bisection): interval (0.7390851080417633, 0.7390851378440857) root 0.7390851229429245\n",
      "iteration 26 (bisection): interval (0.7390851229429245, 0.7390851378440857) root 0.7390851303935051\n",
      "iteration 27 (bisection): interval (0.7390851303935051, 0.7390851378440857) root 0.7390851341187954\n",
      "iteration 28 (bisection): interval (0.7390851303935051, 0.7390851341187954) root 0.7390851322561502\n",
      "iteration 29 (bisection): interval (0.7390851322561502, 0.7390851341187954) root 0.7390851331874728\n",
      "iteration 30 (bisection): interval (0.7390851331874728, 0.7390851341187954) root 0.7390851336531341\n",
      "iteration 31 (bisection): interval (0.7390851331874728, 0.7390851336531341) root 0.7390851334203035\n",
      "iteration 32 (bisection): interval (0.7390851331874728, 0.7390851334203035) root 0.7390851333038881\n",
      "iteration 33 (bisection): interval (0.7390851331874728, 0.7390851333038881) root 0.7390851332456805\n",
      "0.7390851332456805\n"
     ]
    }
   ],
   "source": [
    "#your code here\n",
    "# test code\n",
    "if (__name__ == \"__main__\"):\n",
    "\n",
    "    # bisection tests\n",
    "    print(\"bisection(f_bench,(0,1),1e-10,verbose=True)\")\n",
    "    print(bisection(f_bench,(0,1),1e-10,verbose=True))"
   ]
  },
  {
   "cell_type": "markdown",
   "metadata": {},
   "source": [
    "<div class=answer>\n",
    "<div/>\n",
    "\n",
    "33 iterations are required for a tolerance value of $10^{-10}$ for our benchmark function."
   ]
  },
  {
   "cell_type": "markdown",
   "metadata": {},
   "source": [
    "What happens if you ask for a tolerance of $10^{-21}$?  Does it take as many iterations as you expect?  Do you get what you asked for?  Explain roughly what is going on. "
   ]
  },
  {
   "cell_type": "code",
   "execution_count": 20,
   "metadata": {},
   "outputs": [
    {
     "name": "stdout",
     "output_type": "stream",
     "text": [
      "bisection(f_bench,(0,1),1e-21,verbose=True)\n",
      "iteration 1 (bisection): interval (0.5, 1) root 0.75\n",
      "iteration 2 (bisection): interval (0.5, 0.75) root 0.625\n",
      "iteration 3 (bisection): interval (0.625, 0.75) root 0.6875\n",
      "iteration 4 (bisection): interval (0.6875, 0.75) root 0.71875\n",
      "iteration 5 (bisection): interval (0.71875, 0.75) root 0.734375\n",
      "iteration 6 (bisection): interval (0.734375, 0.75) root 0.7421875\n",
      "iteration 7 (bisection): interval (0.734375, 0.7421875) root 0.73828125\n",
      "iteration 8 (bisection): interval (0.73828125, 0.7421875) root 0.740234375\n",
      "iteration 9 (bisection): interval (0.73828125, 0.740234375) root 0.7392578125\n",
      "iteration 10 (bisection): interval (0.73828125, 0.7392578125) root 0.73876953125\n",
      "iteration 11 (bisection): interval (0.73876953125, 0.7392578125) root 0.739013671875\n",
      "iteration 12 (bisection): interval (0.739013671875, 0.7392578125) root 0.7391357421875\n",
      "iteration 13 (bisection): interval (0.739013671875, 0.7391357421875) root 0.73907470703125\n",
      "iteration 14 (bisection): interval (0.73907470703125, 0.7391357421875) root 0.739105224609375\n",
      "iteration 15 (bisection): interval (0.73907470703125, 0.739105224609375) root 0.7390899658203125\n",
      "iteration 16 (bisection): interval (0.73907470703125, 0.7390899658203125) root 0.7390823364257812\n",
      "iteration 17 (bisection): interval (0.7390823364257812, 0.7390899658203125) root 0.7390861511230469\n",
      "iteration 18 (bisection): interval (0.7390823364257812, 0.7390861511230469) root 0.7390842437744141\n",
      "iteration 19 (bisection): interval (0.7390842437744141, 0.7390861511230469) root 0.7390851974487305\n",
      "iteration 20 (bisection): interval (0.7390842437744141, 0.7390851974487305) root 0.7390847206115723\n",
      "iteration 21 (bisection): interval (0.7390847206115723, 0.7390851974487305) root 0.7390849590301514\n",
      "iteration 22 (bisection): interval (0.7390849590301514, 0.7390851974487305) root 0.7390850782394409\n",
      "iteration 23 (bisection): interval (0.7390850782394409, 0.7390851974487305) root 0.7390851378440857\n",
      "iteration 24 (bisection): interval (0.7390850782394409, 0.7390851378440857) root 0.7390851080417633\n",
      "iteration 25 (bisection): interval (0.7390851080417633, 0.7390851378440857) root 0.7390851229429245\n",
      "iteration 26 (bisection): interval (0.7390851229429245, 0.7390851378440857) root 0.7390851303935051\n",
      "iteration 27 (bisection): interval (0.7390851303935051, 0.7390851378440857) root 0.7390851341187954\n",
      "iteration 28 (bisection): interval (0.7390851303935051, 0.7390851341187954) root 0.7390851322561502\n",
      "iteration 29 (bisection): interval (0.7390851322561502, 0.7390851341187954) root 0.7390851331874728\n",
      "iteration 30 (bisection): interval (0.7390851331874728, 0.7390851341187954) root 0.7390851336531341\n",
      "iteration 31 (bisection): interval (0.7390851331874728, 0.7390851336531341) root 0.7390851334203035\n",
      "iteration 32 (bisection): interval (0.7390851331874728, 0.7390851334203035) root 0.7390851333038881\n",
      "iteration 33 (bisection): interval (0.7390851331874728, 0.7390851333038881) root 0.7390851332456805\n",
      "iteration 34 (bisection): interval (0.7390851331874728, 0.7390851332456805) root 0.7390851332165767\n",
      "iteration 35 (bisection): interval (0.7390851331874728, 0.7390851332165767) root 0.7390851332020247\n",
      "iteration 36 (bisection): interval (0.7390851332020247, 0.7390851332165767) root 0.7390851332093007\n",
      "iteration 37 (bisection): interval (0.7390851332093007, 0.7390851332165767) root 0.7390851332129387\n",
      "iteration 38 (bisection): interval (0.7390851332129387, 0.7390851332165767) root 0.7390851332147577\n",
      "iteration 39 (bisection): interval (0.7390851332147577, 0.7390851332165767) root 0.7390851332156672\n",
      "iteration 40 (bisection): interval (0.7390851332147577, 0.7390851332156672) root 0.7390851332152124\n",
      "iteration 41 (bisection): interval (0.7390851332147577, 0.7390851332152124) root 0.739085133214985\n",
      "iteration 42 (bisection): interval (0.739085133214985, 0.7390851332152124) root 0.7390851332150987\n",
      "iteration 43 (bisection): interval (0.7390851332150987, 0.7390851332152124) root 0.7390851332151556\n",
      "iteration 44 (bisection): interval (0.7390851332151556, 0.7390851332152124) root 0.739085133215184\n",
      "iteration 45 (bisection): interval (0.7390851332151556, 0.739085133215184) root 0.7390851332151698\n",
      "iteration 46 (bisection): interval (0.7390851332151556, 0.7390851332151698) root 0.7390851332151627\n",
      "iteration 47 (bisection): interval (0.7390851332151556, 0.7390851332151627) root 0.7390851332151591\n",
      "iteration 48 (bisection): interval (0.7390851332151591, 0.7390851332151627) root 0.7390851332151609\n",
      "iteration 49 (bisection): interval (0.7390851332151591, 0.7390851332151609) root 0.73908513321516\n",
      "iteration 50 (bisection): interval (0.73908513321516, 0.7390851332151609) root 0.7390851332151605\n",
      "iteration 51 (bisection): interval (0.7390851332151605, 0.7390851332151609) root 0.7390851332151607\n",
      "iteration 52 (bisection): interval (0.7390851332151607, 0.7390851332151607) root 0.7390851332151607\n",
      "0.7390851332151607\n"
     ]
    }
   ],
   "source": [
    "#your code here\n",
    "# test code\n",
    "if (__name__ == \"__main__\"):\n",
    "    \n",
    "    # bisection tests\n",
    "    print(\"bisection(f_bench,(0,1),1e-21,verbose=True)\")\n",
    "    print(bisection(f_bench,(0,1),1e-21,verbose=True))"
   ]
  },
  {
   "cell_type": "markdown",
   "metadata": {},
   "source": [
    "<div class=answer>\n",
    "<div/>\n",
    "Answer here\n",
    "\n",
    "Using a tolerance of $10^{-21}$  it takes 52 iterations (although the 52nd iteration has the exact same root value as the 51st). This is not what I would expect if we were able to have infinite precision. The reason for this is the fact it has taken approximatly three times as many iterations as the exponent of our tolerance (for $10^{-3}$ it took 9, $10^{-6}$ it took 19, and so on), so for $10^{-21}$ I would think we would need at least 60 iterations. Looking at the actual solution values we can see that we are running into a rounding error problem. The data type and computer performing the calculation only holds a finite number of bits, so we are running into a situation where the program believes we have reached the exact answer."
   ]
  },
  {
   "cell_type": "markdown",
   "metadata": {},
   "source": [
    "What happens if you use the interval $(-1,0)$, and why?"
   ]
  },
  {
   "cell_type": "markdown",
   "metadata": {},
   "source": [
    "<div class=answer>\n",
    "<div/>\n",
    "Answer here\n",
    "\n",
    "If you use the intervel from (-1, 0) the function returns None. The reason for this is the bisection method is based around finding a root. The function first determines if the function evaluated at the given endpoints are of opposite sign. For this function, there is no change of sign on the intervel (-1, 0), and as such the function returns None."
   ]
  },
  {
   "cell_type": "markdown",
   "metadata": {},
   "source": [
    "## Exercise 5: Wien's Displacement Constant\n",
    "Work out Newman's 6.13 **in a lab format**.  As in the percolation problem, \n",
    "* plot and label the numerical function you are trying to solve before \"cranking away.\"  \n",
    "* write a thoughtful description about each plot\n",
    "* take note of the tolerance you choose and the number of steps required to solve.\n",
    "\n",
    "You may use the scipy constants library if you like:\n",
    "https://docs.scipy.org/doc/scipy/reference/constants.html"
   ]
  },
  {
   "cell_type": "code",
   "execution_count": 21,
   "metadata": {},
   "outputs": [
    {
     "name": "stdout",
     "output_type": "stream",
     "text": [
      "299792458.0\n",
      "299792458.0\n"
     ]
    }
   ],
   "source": [
    "from scipy.constants import c\n",
    "print(c)\n",
    "\n",
    "#or even better, remember to track where your functions come from:\n",
    "from scipy import constants as const\n",
    "print(const.c)"
   ]
  },
  {
   "cell_type": "code",
   "execution_count": 22,
   "metadata": {
    "collapsed": true
   },
   "outputs": [],
   "source": [
    "#insert code and markdown cells as needed"
   ]
  },
  {
   "cell_type": "markdown",
   "metadata": {},
   "source": [
    "## a)\n",
    "\n",
    "$I (\\lambda) = \\frac{2 \\pi h c^2 \\lambda^{-5}}{e^{h c / \\lambda k_B T} - 1}$\n",
    "\n",
    "Define $E = e^{h c / \\lambda k_B T}$\n",
    "\n",
    "$I (\\lambda) = \\frac{2 \\pi h c^2 \\lambda^{-5}}{E - 1}$\n",
    "\n",
    "$I' = \\frac{(E - 1) * 2 \\pi h c^2 * -5 \\lambda^{-6} + 2 \\pi h c^2 \\lambda^{-5} * \\dfrac{c h E}{k_B T \\lambda^2}}{(E - 1)^2}$\n",
    "\n",
    "Want to find extrema so set equal to zero and simplify\n",
    "\n",
    "$0 = -5E + 5 + \\frac{h c}{k_B T \\lambda} E$\n",
    "\n",
    "$0 = \\frac{h c}{k_B T \\lambda} + 5E^{-1} - 5$\n",
    "\n",
    "Sub back in E-value\n",
    "\n",
    "$0 = \\frac{h c}{k_B T \\lambda} + 5e^{-h c / \\lambda k_B T} - 5$\n",
    "\n",
    "Define $x = h c / \\lambda k_B T$\n",
    "\n",
    "$0 = x + 5e^{-x} - 5$"
   ]
  },
  {
   "cell_type": "code",
   "execution_count": 23,
   "metadata": {
    "collapsed": true
   },
   "outputs": [],
   "source": [
    "def wienFunc (xValue):\n",
    "    \"\"\"\n",
    "    Description: calculates a simple mathematic function\n",
    "    \n",
    "    Parameters:xValue - float\n",
    "    \n",
    "    Returned:float\n",
    "    \n",
    "    Usage:\n",
    "    wienFunc (47)\n",
    "    42\n",
    "    \"\"\"\n",
    "    return xValue + 5 * np.exp (-xValue) - 5"
   ]
  },
  {
   "cell_type": "code",
   "execution_count": 24,
   "metadata": {
    "collapsed": true
   },
   "outputs": [],
   "source": [
    "from scipy.constants import c, h, k\n",
    "from matplotlib.ticker import ScalarFormatter\n",
    "\n",
    "T = 6000"
   ]
  },
  {
   "cell_type": "code",
   "execution_count": 25,
   "metadata": {},
   "outputs": [
    {
     "name": "stdout",
     "output_type": "stream",
     "text": [
      "<function wienFunc at 0x000000000A511510> (-1, 0) 1e-06\n"
     ]
    },
    {
     "name": "stderr",
     "output_type": "stream",
     "text": [
      "C:\\Users\\Unknown\\Anaconda3\\lib\\site-packages\\ipykernel_launcher.py:2: RuntimeWarning: overflow encountered in exp\n",
      "  \n"
     ]
    },
    {
     "data": {
      "image/png": "[encoded data removed]",
      "text/plain": [
       "<matplotlib.figure.Figure at 0xa54ce48>"
      ]
     },
     "metadata": {},
     "output_type": "display_data"
    }
   ],
   "source": [
    "def I(lamb):\n",
    "    return (2*math.pi*h*(c**2)*(lamb**(-5)))/(np.exp(h*c/(lamb*k*T))-1)\n",
    "\n",
    "y = []\n",
    "\n",
    "lamb = np.logspace(-10,-6, 1000)\n",
    "\n",
    "for i in lamb:\n",
    "    y.append(I(i))\n",
    "    \n",
    "#ax1.xaxis.set_majorformatter (ScalarFormatter (useMathText=True))\n",
    "#formater tick formatting using scalar-fromatter\n",
    "\n",
    "\n",
    "#set up the plot\n",
    "fig = plt.figure(figsize=(10,7))\n",
    "ax = fig.add_subplot(111)\n",
    "\n",
    "#format the x-axis tick labels\n",
    "ax.xaxis.set_major_formatter (ScalarFormatter (useMathText=True))\n",
    "\n",
    "#plot the function - both left hand side and right hand side\n",
    "ax.plot(lamb, y)\n",
    "\n",
    "#add good labels\n",
    "ax.set_xlabel(\"Wavelength(m)\")\n",
    "ax.set_ylabel(\"Intensity(watts/m^2)\")\n",
    "ax.set_title (\"Intensity versus Wavelength\")\n",
    "\n",
    "print(wienFunc,(-1,0), 1e-6)"
   ]
  },
  {
   "cell_type": "markdown",
   "metadata": {},
   "source": [
    "<div class=answer>\n",
    "<div/>\n",
    "\n",
    "The x-axis shows the wavelength from a black body from 0 to 10nm. The y-axis shows the intensity of a black body at the given wavelength and ranges from 0 to 1.2 $W/m^2$. The function graphed is the intensity of radiation per unit area and per unit wavelength of a black body at temperature T, given by the equation $I (\\lambda) = \\frac{2 \\pi h c^2 \\lambda^{-5}}{e^{h c / \\lambda k_B T} - 1}$. From 0 to approximatly 1.5nm the intensity value is near zero. The intensity then increases rapidly until around 4nm at which point the function quickly levels off. The intensity then slowly decreases with an increases in wavelength."
   ]
  },
  {
   "cell_type": "code",
   "execution_count": 26,
   "metadata": {},
   "outputs": [
    {
     "data": {
      "text/plain": [
       "Text(0,0.5,'$x + 5 e^{-x} - 5$')"
      ]
     },
     "execution_count": 26,
     "metadata": {},
     "output_type": "execute_result"
    },
    {
     "data": {
      "image/png": "[encoded data removed]",
      "text/plain": [
       "<matplotlib.figure.Figure at 0xa785278>"
      ]
     },
     "metadata": {},
     "output_type": "display_data"
    }
   ],
   "source": [
    "#define the x-range\n",
    "xValues = np.linspace(-1, 10)\n",
    "yValues = wienFunc (xValues)\n",
    "\n",
    "#set up the plot\n",
    "fig = plt.figure(figsize=(7,7))\n",
    "\n",
    "#plot the function\n",
    "plt.plot(xValues, yValues)\n",
    "#plot y = 0\n",
    "plt.axhline(y=0,ls='--',color='gray')\n",
    "\n",
    "#add good labels\n",
    "plt.title (\"Wien function\")\n",
    "plt.xlabel(\"x\")\n",
    "plt.ylabel(r\"$x + 5 e^{-x} - 5$\")"
   ]
  },
  {
   "cell_type": "markdown",
   "metadata": {},
   "source": [
    "<div class=answer>\n",
    "<div/>\n",
    "The x-axis shows the independant values ranging from 0 to 10.  The y-axis shows the function $y = x + 5e^{-x} - 5$ evaluated at each individual independant value.  The blue line shows the function, and the dotted grey line shows the function $y = x$.  The grey line goes horizontally from left to right at a y position of 0.  It insterects the blue line at two separate x values.  The first x value is zero.  The second x value is 4.965.  These values are important because they are the roots to the initial function.  These roots help us find the wavelengths that correspond to the maximum intensity. "
   ]
  },
  {
   "cell_type": "markdown",
   "metadata": {},
   "source": [
    "## b)"
   ]
  },
  {
   "cell_type": "code",
   "execution_count": 27,
   "metadata": {},
   "outputs": [
    {
     "name": "stdout",
     "output_type": "stream",
     "text": [
      "iteration 1 (bisection): interval (4, 5.0) root 4.5\n",
      "iteration 2 (bisection): interval (4.5, 5.0) root 4.75\n",
      "iteration 3 (bisection): interval (4.75, 5.0) root 4.875\n",
      "iteration 4 (bisection): interval (4.875, 5.0) root 4.9375\n",
      "iteration 5 (bisection): interval (4.9375, 5.0) root 4.96875\n",
      "iteration 6 (bisection): interval (4.9375, 4.96875) root 4.953125\n",
      "iteration 7 (bisection): interval (4.953125, 4.96875) root 4.9609375\n",
      "iteration 8 (bisection): interval (4.9609375, 4.96875) root 4.96484375\n",
      "iteration 9 (bisection): interval (4.96484375, 4.96875) root 4.966796875\n",
      "iteration 10 (bisection): interval (4.96484375, 4.966796875) root 4.9658203125\n",
      "iteration 11 (bisection): interval (4.96484375, 4.9658203125) root 4.96533203125\n",
      "iteration 12 (bisection): interval (4.96484375, 4.96533203125) root 4.965087890625\n",
      "iteration 13 (bisection): interval (4.965087890625, 4.96533203125) root 4.9652099609375\n",
      "iteration 14 (bisection): interval (4.965087890625, 4.9652099609375) root 4.96514892578125\n",
      "iteration 15 (bisection): interval (4.965087890625, 4.96514892578125) root 4.965118408203125\n",
      "iteration 16 (bisection): interval (4.965087890625, 4.965118408203125) root 4.9651031494140625\n",
      "iteration 17 (bisection): interval (4.9651031494140625, 4.965118408203125) root 4.965110778808594\n",
      "iteration 18 (bisection): interval (4.965110778808594, 4.965118408203125) root 4.965114593505859\n",
      "iteration 19 (bisection): interval (4.965110778808594, 4.965114593505859) root 4.965112686157227\n",
      "iteration 20 (bisection): interval (4.965112686157227, 4.965114593505859) root 4.965113639831543\n",
      "solution to (4, 6) = 4.965113639831543 \n",
      "\n",
      "iteration 1 (bisection): interval (0.0, 0.0) root 0.0\n",
      "solution to (-0.5, 0.5) = 0.0\n"
     ]
    }
   ],
   "source": [
    "#def bisection(f,interval,tolerance,verbose=False):\n",
    "\n",
    "interval = (4, 6)\n",
    "tolerance = 1e-6\n",
    "\n",
    "print (\"solution to\", interval, \"=\", bisection (wienFunc, interval, tolerance, verbose = True), \"\\n\")\n",
    "\n",
    "interval = (-0.5, 0.5)\n",
    "print (\"solution to\", interval, \"=\", bisection (wienFunc, interval, tolerance, verbose = True))"
   ]
  },
  {
   "cell_type": "markdown",
   "metadata": {},
   "source": [
    "The trivial solultion to these equation is clearly 0. The other root value is approximatly 4.965113639831543, the calculation of which took 20 bisections to compute with a tolerance of $10^{-6}$."
   ]
  },
  {
   "cell_type": "markdown",
   "metadata": {},
   "source": [
    "## c)\n",
    "\n",
    "$\\lambda = \\frac{h c }{k_B T x}$\n",
    "\n",
    "$T = \\frac{h c }{k_B \\lambda x}$"
   ]
  },
  {
   "cell_type": "code",
   "execution_count": 28,
   "metadata": {},
   "outputs": [
    {
     "name": "stdout",
     "output_type": "stream",
     "text": [
      "Temperature of Sun (calculated) = 5772.45669319182 K\n",
      "Temperature of Sun (accepted)   = 5778 K\n",
      "Percent error = 0.095938%\n"
     ]
    }
   ],
   "source": [
    "xValue = 4.965113639831543\n",
    "wavelength = 502e-9 #m\n",
    "sunTemp = const.h * const.c / (const.k * xValue * wavelength) #K\n",
    "sunTempAccepted = 5778 #K\n",
    "\n",
    "error = abs (sunTempAccepted - sunTemp) / sunTempAccepted * 100\n",
    "\n",
    "print (\"Temperature of Sun (calculated) = {} K\".format (sunTemp))\n",
    "print (\"Temperature of Sun (accepted)   = {} K\".format (sunTempAccepted))\n",
    "print (\"Percent error = {:.5}%\".format (error))"
   ]
  },
  {
   "cell_type": "markdown",
   "metadata": {},
   "source": [
    "This value is very close to the surface temperature of the sun according to wikipedia (https://en.wikipedia.org/wiki/Sun) posted at 5,778 K."
   ]
  },
  {
   "cell_type": "markdown",
   "metadata": {},
   "source": [
    "## Exercise 6: Newton-Raphson method\n",
    "\n",
    "Now let us go ahead and code a function to implement the Newton-Raphson method.  I have gotten us started by defining the interface:"
   ]
  },
  {
   "cell_type": "code",
   "execution_count": 50,
   "metadata": {
    "collapsed": true
   },
   "outputs": [],
   "source": [
    "def newton(f, fp, x_guess, tolerance, *args, verbose=False, max_iterations=100):\n",
    "    \"\"\" Find root by Newton's method.\n",
    "\n",
    "    The 'approximation' x_i at each iteration is defined by Newton's\n",
    "    method, in terms of the previous approximation x_(i-1).\n",
    "    \n",
    "    The 'error' x_i-x_(i-1) is defined by the difference in successive\n",
    "    approximations.\n",
    "\n",
    "    Returns None if the maximum number of iterations is reached\n",
    "    without satisfying the tolerance.  Also returns None if\n",
    "    rootfinding lands on point where f has zero slope.  Otherwise,\n",
    "    returns final approximation x_i when termination condition is\n",
    "    reached.\n",
    "\n",
    "    f: function for rootfinding\n",
    "    fp: derivative of function for rootfinding (i.e., 'f prime')\n",
    "    x_guess: initial guess point\n",
    "    tolerance: error at which search should terminate\n",
    "    verbose (optional): whether or not to print iteration log\n",
    "    max_iterations (optional): limit on number of iterations\n",
    "    \"\"\"\n",
    "\n",
    "    # set up for first iteration\n",
    "    x = x_guess\n",
    "    error = 2*tolerance  # set error big enough to get past while condition\n",
    "    iteration_count = 0\n",
    "\n",
    "    # TODO\n",
    "    while abs (error) > tolerance:\n",
    "        \n",
    "        if iteration_count > max_iterations:\n",
    "            return None\n",
    "        \n",
    "        iteration_count += 1\n",
    "        xCur = x - f (x, *args) / fp (x, *args)\n",
    "        error = xCur - x\n",
    "        x = xCur\n",
    "        \n",
    "        if verbose:\n",
    "           print (\"iteration\", iteration_count, \"(newton): root\", xCur, \"error\", error)\n",
    "    \n",
    "    \n",
    "    return x\n"
   ]
  },
  {
   "cell_type": "markdown",
   "metadata": {},
   "source": [
    "Notice that, in case of complete failure, we should put in a maximum number of iterations as a \"safety net\", to avoid an infinite loop.\n",
    "\n",
    "Try your function out on our benchmark function, picking starting points reasonably near the root.  Actually, when it comes time to print out a test case to hand in, please use $x_0=0.5$.\n",
    "\n",
    "Now, we probably thought of bisection as being pretty \"fast\" as a way to get to the root.  After all, we saw in **Exercise 3** the error in the bisection method falls exponentially with the number of iterations\n",
    "$$\n",
    "\\epsilon_i \\propto \\frac{1}{2^i}.\n",
    "$$\n",
    "And \"exponential\" is \"fast\", right?  But from Newman you have seen that we expect the Newton-Raphson method to be even faster, at least, once we have gotten close enough to a root that the function is basically described by the first couple of terms in its Taylor series around that root.\n",
    " \n",
    "So let us actually compare the performance of ```bisect``` and ```newton```.  We have already run the necessary test cases.  For ```bisect```, we started with the initial interval $(0,1)$, and, for ```newton```, \n",
    "we used $x_0=0.5$, which is the midpoint of this interval.  So it seems reasonable to compare these test cases.  Based on your log of iterations (from the verbose output) make a table indicating how many how many digits of\n",
    "the answer $x_i$ are correct, with each method, after each iteration ($i=0$, $1$, $2$, $\\ldots$)."
   ]
  },
  {
   "cell_type": "code",
   "execution_count": 46,
   "metadata": {},
   "outputs": [
    {
     "name": "stdout",
     "output_type": "stream",
     "text": [
      "newton (f_bench, fp_bench, 0.5, 1e-10, verbose=True)\n",
      "iteration 1 (newton): root 0.7552224171056364 error 0.2552224171056364\n",
      "iteration 2 (newton): root 0.7391416661498792 error -0.016080750955757228\n",
      "iteration 3 (newton): root 0.7390851339208068 error -5.653222907242572e-05\n",
      "iteration 4 (newton): root 0.7390851332151607 error -7.056460971099909e-10\n",
      "iteration 5 (newton): root 0.7390851332151607 error 0.0\n",
      "0.7390851332151607\n"
     ]
    }
   ],
   "source": [
    "#your code here\n",
    "\n",
    "if (__name__ == \"__main__\"):\n",
    "    # newton tests\n",
    "    print(\"newton (f_bench, fp_bench, 0.5, 1e-10, verbose=True)\")\n",
    "    print(newton (f_bench, fp_bench, 0.5, 1e-10, verbose=True))\n"
   ]
  },
  {
   "cell_type": "markdown",
   "metadata": {},
   "source": [
    "bisection(f_bench,(0,1),1e-10,verbose=True)  \n",
    "iteration 1 (bisection): interval (0.5, 1) root 0.75  \n",
    "iteration 2 (bisection): interval (0.5, 0.75) root 0.625  \n",
    "iteration 3 (bisection): interval (0.625, 0.75) root 0.6875  \n",
    "iteration 4 (bisection): interval (0.6875, 0.75) root 0.71875  \n",
    "iteration 5 (bisection): interval (0.71875, 0.75) root 0.734375  \n",
    "iteration 6 (bisection): interval (0.734375, 0.75) root 0.7421875  \n",
    "iteration 7 (bisection): interval (0.734375, 0.7421875) root 0.73828125  \n",
    "iteration 8 (bisection): interval (0.73828125, 0.7421875) root 0.740234375  \n",
    "iteration 9 (bisection): interval (0.73828125, 0.740234375) root 0.7392578125  \n",
    "iteration 10 (bisection): interval (0.73828125, 0.7392578125) root 0.73876953125  \n",
    "iteration 11 (bisection): interval (0.73876953125, 0.7392578125) root 0.739013671875  \n",
    "iteration 12 (bisection): interval (0.739013671875, 0.7392578125) root 0.7391357421875  \n",
    "iteration 13 (bisection): interval (0.739013671875, 0.7391357421875) root 0.73907470703125  \n",
    "iteration 14 (bisection): interval (0.73907470703125, 0.7391357421875) root 0.739105224609375  \n",
    "iteration 15 (bisection): interval (0.73907470703125, 0.739105224609375) root 0.7390899658203125  \n",
    "iteration 16 (bisection): interval (0.73907470703125, 0.7390899658203125) root 0.7390823364257812  \n",
    "iteration 17 (bisection): interval (0.7390823364257812, 0.7390899658203125) root 0.7390861511230469  \n",
    "iteration 18 (bisection): interval (0.7390823364257812, 0.7390861511230469) root 0.7390842437744141  \n",
    "iteration 19 (bisection): interval (0.7390842437744141, 0.7390861511230469) root 0.7390851974487305  \n",
    "iteration 20 (bisection): interval (0.7390842437744141, 0.7390851974487305) root 0.7390847206115723  \n",
    "iteration 21 (bisection): interval (0.7390847206115723, 0.7390851974487305) root 0.7390849590301514  \n",
    "iteration 22 (bisection): interval (0.7390849590301514, 0.7390851974487305) root 0.7390850782394409  \n",
    "iteration 23 (bisection): interval (0.7390850782394409, 0.7390851974487305) root 0.7390851378440857  \n",
    "iteration 24 (bisection): interval (0.7390850782394409, 0.7390851378440857) root 0.7390851080417633  \n",
    "iteration 25 (bisection): interval (0.7390851080417633, 0.7390851378440857) root 0.7390851229429245  \n",
    "iteration 26 (bisection): interval (0.7390851229429245, 0.7390851378440857) root 0.7390851303935051  \n",
    "iteration 27 (bisection): interval (0.7390851303935051, 0.7390851378440857) root 0.7390851341187954  \n",
    "iteration 28 (bisection): interval (0.7390851303935051, 0.7390851341187954) root 0.7390851322561502  \n",
    "iteration 29 (bisection): interval (0.7390851322561502, 0.7390851341187954) root 0.7390851331874728  \n",
    "iteration 30 (bisection): interval (0.7390851331874728, 0.7390851341187954) root 0.7390851336531341  \n",
    "iteration 31 (bisection): interval (0.7390851331874728, 0.7390851336531341) root 0.7390851334203035  \n",
    "iteration 32 (bisection): interval (0.7390851331874728, 0.7390851334203035) root 0.7390851333038881  \n",
    "iteration 33 (bisection): interval (0.7390851331874728, 0.7390851333038881) root 0.7390851332456805  \n",
    "0.7390851332456805\n",
    "\n",
    "\n",
    "[0.75,\n",
    "0.625,\n",
    "0.6875,\n",
    "0.71875,\n",
    "0.734375,\n",
    "0.7421875,\n",
    "0.73828125,\n",
    "0.740234375,\n",
    "0.7392578125,\n",
    "0.73876953125,\n",
    "0.739013671875,\n",
    "0.7391357421875,\n",
    "0.73907470703125,\n",
    "0.739105224609375,\n",
    "0.7390899658203125,\n",
    "0.7390823364257812,\n",
    "0.7390861511230469,\n",
    "0.7390842437744141,\n",
    "0.7390851974487305,\n",
    "0.7390847206115723,\n",
    "0.7390849590301514,\n",
    "0.7390850782394409,\n",
    "0.7390851378440857,\n",
    "0.7390851080417633,\n",
    "0.7390851229429245,\n",
    "0.7390851303935051,\n",
    "0.7390851341187954,\n",
    "0.7390851322561502,\n",
    "0.7390851331874728,\n",
    "0.7390851336531341,\n",
    "0.7390851334203035,\n",
    "0.7390851333038881,\n",
    "0.7390851332456805,\n",
    "]"
   ]
  },
  {
   "cell_type": "code",
   "execution_count": 31,
   "metadata": {
    "collapsed": true
   },
   "outputs": [],
   "source": [
    "def numCorrectDigits (exactAnswer, approxAnswer):\n",
    "    \"\"\"\n",
    "    Description: calculates the number of digits the approximate answer has with the exact answer\n",
    "    \n",
    "    Parameters:exactAnswer - float\n",
    "               approxAnswer - float\n",
    "    \n",
    "    Returned: int\n",
    "    \n",
    "    Usage:\n",
    "    numCorrectDigits (0.5789, 0.5)\n",
    "    1\n",
    "    \"\"\"\n",
    "    \n",
    "    numDigits = 0\n",
    "    \n",
    "    exactStr = str (exactAnswer)\n",
    "    approxStr = str (approxAnswer)\n",
    "    \n",
    "    for i in range (min (len (exactStr), len (approxStr))):\n",
    "        if exactStr[i] == approxStr[i] and '.' != exactStr[i]:\n",
    "            numDigits += 1\n",
    "        elif exactStr[i] != approxStr[i]:\n",
    "            break\n",
    "            \n",
    "    return numDigits"
   ]
  },
  {
   "cell_type": "code",
   "execution_count": 32,
   "metadata": {},
   "outputs": [
    {
     "name": "stdout",
     "output_type": "stream",
     "text": [
      " Iteration     Newton  Bisection\n",
      "         0          1          2\n",
      "         1          4          1\n",
      "         2         10          1\n",
      "         3         17          2\n",
      "         4         17          3\n",
      "         5                     2\n",
      "         6                     3\n",
      "         7                     2\n",
      "         8                     4\n",
      "         9                     3\n",
      "        10                     5\n",
      "        11                     4\n",
      "        12                     5\n",
      "        13                     4\n",
      "        14                     6\n",
      "        15                     6\n",
      "        16                     6\n",
      "        17                     6\n",
      "        18                     8\n",
      "        19                     6\n",
      "        20                     6\n",
      "        21                     7\n",
      "        22                     9\n",
      "        23                     8\n",
      "        24                     8\n",
      "        25                     9\n",
      "        26                     9\n",
      "        27                     9\n",
      "        28                    10\n",
      "        29                    10\n",
      "        30                    10\n",
      "        31                    10\n",
      "        32                    17\n"
     ]
    }
   ],
   "source": [
    "bisectionValues = [0.75,\n",
    "                    0.625,\n",
    "                    0.6875,\n",
    "                    0.71875,\n",
    "                    0.734375,\n",
    "                    0.7421875,\n",
    "                    0.73828125,\n",
    "                    0.740234375,\n",
    "                    0.7392578125,\n",
    "                    0.73876953125,\n",
    "                    0.739013671875,\n",
    "                    0.7391357421875,\n",
    "                    0.73907470703125,\n",
    "                    0.739105224609375,\n",
    "                    0.7390899658203125,\n",
    "                    0.7390823364257812,\n",
    "                    0.7390861511230469,\n",
    "                    0.7390842437744141,\n",
    "                    0.7390851974487305,\n",
    "                    0.7390847206115723,\n",
    "                    0.7390849590301514,\n",
    "                    0.7390850782394409,\n",
    "                    0.7390851378440857,\n",
    "                    0.7390851080417633,\n",
    "                    0.7390851229429245,\n",
    "                    0.7390851303935051,\n",
    "                    0.7390851341187954,\n",
    "                    0.7390851322561502,\n",
    "                    0.7390851331874728,\n",
    "                    0.7390851336531341,\n",
    "                    0.7390851334203035,\n",
    "                    0.7390851333038881,\n",
    "                    0.7390851332456805,\n",
    "                    ]\n",
    "bisectionExact = 0.7390851332456805\n",
    "\n",
    "newtonValues = [0.2552224171056364,\n",
    "                0.7391416661498792,\n",
    "                0.7390851339208068,\n",
    "                0.7390851332151607,\n",
    "                0.7390851332151607,\n",
    "                ]\n",
    "newtonExact = 0.7390851332151607\n",
    "\n",
    "bisectionNumDigits = []\n",
    "newtonNumDigits = []\n",
    "\n",
    "for x in bisectionValues:\n",
    "    bisectionNumDigits.append (numCorrectDigits (bisectionExact, x))\n",
    "    \n",
    "for x in newtonValues:\n",
    "    newtonNumDigits.append (numCorrectDigits (newtonExact, x))\n",
    "\n",
    "\n",
    "print (\"{:>10} {:>10} {:>10}\".format (\"Iteration\", \"Newton\", \"Bisection\"))\n",
    "maxIterations = max (len (bisectionNumDigits), len (newtonNumDigits))\n",
    "lenBisec = len (bisectionNumDigits)\n",
    "lenNewt = len (newtonNumDigits)\n",
    "\n",
    "for i in range (maxIterations):\n",
    "    iteration = str (i)\n",
    "    bisec = \"\"\n",
    "    newt = \"\"\n",
    "    \n",
    "    bBisec = lenBisec > i\n",
    "    bNewt  = lenNewt > i\n",
    "    \n",
    "    if bBisec:\n",
    "        bisec = str (bisectionNumDigits[i])\n",
    "    \n",
    "    if bNewt:\n",
    "        newt = str (newtonNumDigits[i])\n",
    "        \n",
    "    print (\"{:>10} {:>10} {:>10}\".format (iteration, newt, bisec))"
   ]
  },
  {
   "cell_type": "markdown",
   "metadata": {},
   "source": [
    "<div class=answer>\n",
    "<div/>\n",
    "Answer here\n",
    "\n",
    "See table above."
   ]
  },
  {
   "cell_type": "markdown",
   "metadata": {},
   "source": [
    "For the *bisection* method, does the growth in the number of correct digits look linear in the number of iterations, or perhaps quadratic, or exponential?  How about for the *Newton-Raphson* method (the trend here may be\n",
    "harder to judge by eye)?  Explain these results in terms of the expected convergence rates (from Newman)."
   ]
  },
  {
   "cell_type": "code",
   "execution_count": 33,
   "metadata": {},
   "outputs": [
    {
     "data": {
      "text/plain": [
       "Text(0,0.5,'Number of Correct Digits')"
      ]
     },
     "execution_count": 33,
     "metadata": {},
     "output_type": "execute_result"
    },
    {
     "data": {
      "image/png": "[encoded data removed]",
      "text/plain": [
       "<matplotlib.figure.Figure at 0xa5a2ac8>"
      ]
     },
     "metadata": {},
     "output_type": "display_data"
    }
   ],
   "source": [
    "#set up the plot\n",
    "fig = plt.figure(figsize=(7,7))\n",
    "\n",
    "#plot newton number of digits\n",
    "plt.plot(newtonNumDigits, \"k--o\")\n",
    "\n",
    "#add good labels\n",
    "plt.title (\"Newton Number of Correct Digits per Iteration\")\n",
    "plt.xlabel(\"Iteration\")\n",
    "plt.ylabel(\"Number of Correct Digits\")"
   ]
  },
  {
   "cell_type": "markdown",
   "metadata": {},
   "source": [
    "<div class=answer>\n",
    "<div/>\n",
    "\n",
    "The x-axis shows the number of iterations run to calculate the root value of the benchmark function $\\cos (x) - x$ using the Newton-Raphson method. The x-axisr anges from 0 to 4. The y-axis is the number of digits to which the given iteration's root solution is accurate with the correct root value, and ranges from 0 to 18. Although the figure has few data points it matches the fact Newton's method has a quadratic convergence."
   ]
  },
  {
   "cell_type": "code",
   "execution_count": 34,
   "metadata": {},
   "outputs": [
    {
     "data": {
      "text/plain": [
       "Text(0,0.5,'Number of Correct Digits')"
      ]
     },
     "execution_count": 34,
     "metadata": {},
     "output_type": "execute_result"
    },
    {
     "data": {
      "image/png": "[encoded data removed]",
      "text/plain": [
       "<matplotlib.figure.Figure at 0xa95ab00>"
      ]
     },
     "metadata": {},
     "output_type": "display_data"
    }
   ],
   "source": [
    "#set up the plot\n",
    "fig = plt.figure(figsize=(7,7))\n",
    "\n",
    "#plot newton number of digits\n",
    "plt.plot(bisectionNumDigits, \"k--o\")\n",
    "\n",
    "#add good labels\n",
    "plt.title (\"Bisection Number of Correct Digits per Iteration\")\n",
    "plt.xlabel(\"Iteration\")\n",
    "plt.ylabel(\"Number of Correct Digits\")"
   ]
  },
  {
   "cell_type": "markdown",
   "metadata": {},
   "source": [
    "<div class=answer>\n",
    "<div/>\n",
    "\n",
    "The x-axis shows the number of iterations run to calculate the root value of the benchmark function $\\cos (x) - x$ using the Bisection method. The x-axis ranges from 0 to 35. The y-axis shows the number of digits the current iteration's solution value is correct to with the accepted value. The y-axis ranges from 0 - 35. The bisection method has a logorithmic convergence because the error decreases by a factor of 2 after each iteration. As a result of this the number of steps we have to take to fall within the desired accuracy ($\\epsilon$) is given in the equation $N = \\log_2 (\\frac{\\Delta}{\\epsilon})$."
   ]
  },
  {
   "cell_type": "markdown",
   "metadata": {},
   "source": [
    "What happens if you start Newton's method instead with the initial guess point $x=5$?  How about $x=10$?  Explain what's going on.  It will help to look back at your plot of this function.  "
   ]
  },
  {
   "cell_type": "code",
   "execution_count": 35,
   "metadata": {},
   "outputs": [
    {
     "name": "stdout",
     "output_type": "stream",
     "text": [
      "newton (f_bench, fp_bench, 5, 1e-10, verbose=True)\n",
      "iteration 1 (newton): root -109.82056070484798 error -114.82056070484798\n",
      "iteration 2 (newton): root 15.960777561082068 error 125.78133826593005\n",
      "iteration 3 (newton): root -6.615115461729538 error -22.575893022811606\n",
      "iteration 4 (newton): root 4.600099704729104 error 11.215215166458641\n",
      "iteration 5 (newton): root -743.6197251930475 error -748.2198248977767\n",
      "iteration 6 (newton): root 3090.7583906372142 error 3834.378115830262\n",
      "iteration 7 (newton): root -3606.140072709168 error -6696.898463346382\n",
      "iteration 8 (newton): root -1024.218222635432 error 2581.921850073736\n",
      "iteration 9 (newton): root 65.25924707762556 error 1089.4774697130576\n",
      "iteration 10 (newton): root 25.37140273241846 error -39.8878443452071\n",
      "iteration 11 (newton): root 5.63692971597947 error -19.73447301643899\n",
      "iteration 12 (newton): root -6.52647233436393 error -12.1634020503434\n",
      "iteration 13 (newton): root 3.3496519726974086 error 9.876124307061339\n",
      "iteration 14 (newton): root -2.1051947424657396 error -5.454846715163148\n",
      "iteration 15 (newton): root 9.340912110729942 error 11.446106853195682\n",
      "iteration 16 (newton): root -0.19747756557924134 error -9.538389676309183\n",
      "iteration 17 (newton): root 1.2681072760549799 error 1.4655848416342212\n",
      "iteration 18 (newton): root 0.771816587211259 error -0.49629068884372085\n",
      "iteration 19 (newton): root 0.739313671562077 error -0.03250291564918206\n",
      "iteration 20 (newton): root 0.7390851447450119 error -0.00022852681706508893\n",
      "iteration 21 (newton): root 0.7390851332151607 error -1.1529851184910456e-08\n",
      "iteration 22 (newton): root 0.7390851332151607 error 0.0\n",
      "0.7390851332151607\n",
      "newton (f_bench, fp_bench, 10, 1e-10, verbose=True)\n",
      "iteration 1 (newton): root -13.770994201546603 error -23.770994201546603\n",
      "iteration 2 (newton): root 199.35117751530382 error 213.12217171685043\n",
      "iteration 3 (newton): root -20202.926342870745 error -20402.27752038605\n",
      "iteration 4 (newton): root 31592.34177166328 error 51795.268114534025\n",
      "iteration 5 (newton): root 10059.580115835786 error -21532.761655827493\n",
      "iteration 6 (newton): root 1671.1192026543067 error -8388.46091318148\n",
      "iteration 7 (newton): root -433.8983151322527 error -2105.0175177865594\n",
      "iteration 8 (newton): root 236.00274675528692 error 669.9010618875396\n",
      "iteration 9 (newton): root -142.46844918750787 error -378.4711959427948\n",
      "iteration 10 (newton): root -67.31957649476091 error 75.14887269274696\n",
      "iteration 11 (newton): root -33.3442558989409 error 33.97532059582001\n",
      "iteration 12 (newton): root 488.41204795953547 error 521.7563038584764\n",
      "iteration 13 (newton): root -87192.766475474 error -87681.17852343353\n",
      "iteration 14 (newton): root 470338.1773171524 error 557530.9437926264\n",
      "iteration 15 (newton): root -1806200.5661173384 error -2276538.7434344906\n",
      "iteration 16 (newton): root -903074.919692168 error 903125.6464251704\n",
      "iteration 17 (newton): root -415663.71518534905 error 487411.20450681896\n",
      "iteration 18 (newton): root -118233.25235400954 error 297430.4628313395\n",
      "iteration 19 (newton): root 146863.11334795697 error 265096.3657019665\n",
      "iteration 20 (newton): root -9370.856705585727 error -156233.9700535427\n",
      "iteration 21 (newton): root 9067.504535656466 error 18438.361241242194\n",
      "iteration 22 (newton): root 3925.0158936009684 error -5142.488642055498\n",
      "iteration 23 (newton): root -44805.14277324305 error -48730.15866684402\n",
      "iteration 24 (newton): root -8931.684440842328 error 35873.458332400725\n",
      "iteration 25 (newton): root -1070.8706372661863 error 7860.813803576141\n",
      "iteration 26 (newton): root 714.9526285580296 error 1785.823265824216\n",
      "iteration 27 (newton): root -24159.094026639432 error -24874.04665519746\n",
      "iteration 28 (newton): root 7799.980014924829 error 31959.07404156426\n",
      "iteration 29 (newton): root 2799.881708716209 error -5000.098306208621\n",
      "iteration 30 (newton): root -5470.789019360455 error -8270.670728076664\n",
      "iteration 31 (newton): root -2675.328502667812 error 2795.4605166926435\n",
      "iteration 32 (newton): root -1314.247192689728 error 1361.0813099780837\n",
      "iteration 33 (newton): root 9043.704898747726 error 10357.952091437455\n",
      "iteration 34 (newton): root 4040.6794740760715 error -5003.025424671655\n",
      "iteration 35 (newton): root 1446.8069457996212 error -2593.8725282764503\n",
      "iteration 36 (newton): root 721.4097954130043 error -725.3971503866169\n",
      "iteration 37 (newton): root -7801.720100931494 error -8523.129896344499\n",
      "iteration 38 (newton): root -3719.2619469013866 error 4082.4581540301074\n",
      "iteration 39 (newton): root -1012.4983733622157 error 2706.763573539171\n",
      "iteration 40 (newton): root 3738.5133085186617 error 4751.011681880877\n",
      "iteration 41 (newton): root 67.2650118991437 error -3671.248296619518\n",
      "iteration 42 (newton): root -1676.5246719804404 error -1743.7896838795841\n",
      "iteration 43 (newton): root -786.7228202710737 error 889.8018517093667\n",
      "iteration 44 (newton): root 25323.916594401657 error 26110.63941467273\n",
      "iteration 45 (newton): root 7804.738152459751 error -17519.178441941905\n",
      "iteration 46 (newton): root 3593.42143145927 error -4211.316721000481\n",
      "iteration 47 (newton): root -4077.515284203909 error -7670.936715663179\n",
      "iteration 48 (newton): root -862.6705035325317 error 3214.844780671377\n",
      "iteration 49 (newton): root 18028.30409318023 error 18890.974596712764\n",
      "iteration 50 (newton): root 8841.862664547221 error -9186.44142863301\n",
      "iteration 51 (newton): root 4396.09219887661 error -4445.770465670611\n",
      "iteration 52 (newton): root -23727.310395996516 error -28123.402594873125\n",
      "iteration 53 (newton): root 234680.7497599671 error 258408.0601559636\n",
      "iteration 54 (newton): root -344410.3696635476 error -579091.1194235147\n",
      "iteration 55 (newton): root -135778.95681719258 error 208631.41284635503\n",
      "iteration 56 (newton): root -52323.89955241102 error 83455.05726478156\n",
      "iteration 57 (newton): root -20106.09433891488 error 32217.80521349614\n",
      "iteration 58 (newton): root -1801.6979483450814 error 18304.3963905698\n",
      "iteration 59 (newton): root -900.8450322524122 error 900.8529160926691\n",
      "iteration 60 (newton): root 2222.494458339784 error 3123.3394905921964\n",
      "iteration 61 (newton): root -131845.9193990477 error -134068.4138573875\n",
      "iteration 62 (newton): root -39446.49112286171 error 92399.428276186\n",
      "iteration 63 (newton): root 61230.279048796656 error 100676.77017165837\n",
      "iteration 64 (newton): root 22860.538037106577 error -38369.74101169008\n",
      "iteration 65 (newton): root 9714.957532947652 error -13145.580504158925\n",
      "iteration 66 (newton): root 4639.446806720777 error -5075.510726226875\n",
      "iteration 67 (newton): root 1798.0774066134954 error -2841.3694001072818\n",
      "iteration 68 (newton): root 844.4171435079763 error -953.6602631055191\n",
      "iteration 69 (newton): root 323.3284284172979 error -521.0887150906784\n",
      "iteration 70 (newton): root 64.47986179594386 error -258.84856662135405\n",
      "iteration 71 (newton): root 32.153206085393606 error -32.326655710550256\n",
      "iteration 72 (newton): root 13.368688811941443 error -18.784517273452163\n",
      "iteration 73 (newton): root 5.995871159457538 error -7.372817652483905\n",
      "iteration 74 (newton): root -1.0327424867859394 error -7.028613646243477\n",
      "iteration 75 (newton): root 9.90350592502164 error 10.93624841180758\n",
      "iteration 76 (newton): root -10.10409172684303 error -20.00759765186467\n",
      "iteration 77 (newton): root -4.3764488317015315 error 5.727642895141499\n",
      "iteration 78 (newton): root -2.2948736786510913 error 2.0815751530504403\n",
      "iteration 79 (newton): root 4.211703952126381 error 6.506577630777473\n",
      "iteration 80 (newton): root -34.01135911677865 error -38.223063068905034\n",
      "iteration 81 (newton): root 34.98053968311537 error 68.99189879989402\n",
      "iteration 82 (newton): root -25.907334141433097 error -60.887873824548464\n",
      "iteration 83 (newton): root 62.6630938898726 error 88.5704280313057\n",
      "iteration 84 (newton): root -11.464648958424306 error -74.1277428482969\n",
      "iteration 85 (newton): root -5.166133053514818 error 6.298515904909488\n",
      "iteration 86 (newton): root -2.214568534910524 error 2.9515645186042936\n",
      "iteration 87 (newton): root 5.850629258218898 error 8.065197793129423\n",
      "iteration 88 (newton): root -2.659478762081376 error -8.510108020300274\n",
      "iteration 89 (newton): root 0.6470792662138369 error 3.3065580282952127\n",
      "iteration 90 (newton): root 0.7411416590023544 error 0.09406239278851747\n",
      "iteration 91 (newton): root 0.7390860650536678 error -0.002055593948686596\n",
      "iteration 92 (newton): root 0.7390851332153524 error -9.318383153988918e-07\n",
      "iteration 93 (newton): root 0.7390851332151607 error -1.9173551635276453e-13\n",
      "0.7390851332151607\n"
     ]
    }
   ],
   "source": [
    "if (__name__ == \"__main__\"):\n",
    "    \n",
    "    # newton tests\n",
    "    print(\"newton (f_bench, fp_bench, 5, 1e-10, verbose=True)\")\n",
    "    print(newton (f_bench, fp_bench, 5, 1e-10, verbose=True))\n",
    "    \n",
    "    print(\"newton (f_bench, fp_bench, 10, 1e-10, verbose=True)\")\n",
    "    print(newton (f_bench, fp_bench, 10, 1e-10, verbose=True))\n",
    "    "
   ]
  },
  {
   "cell_type": "markdown",
   "metadata": {},
   "source": [
    "<div class=answer>\n",
    "<div/>\n",
    "It took 22 and 101 iterations for starting x-values of 5 and 10 respectivly. The reason for this is that the Newton's method works best starting near the root value. This means that the number of iterations required to find the root decreases as the initial guess of the root is closer to the actual answer. Our implementation even makes the assumption that the x-value we are testing (and starting from) is near the correct value."
   ]
  },
  {
   "cell_type": "markdown",
   "metadata": {},
   "source": [
    "## Exercise 7: More on Newton's method\n",
    "\n",
    "Here's one more illustration with Newton's method.  Let's try it out on the function\n",
    "\n",
    "$$\n",
    "\\begin{equation}\n",
    "f(x)=x^2+1.\n",
    "\\end{equation}\n",
    "$$\n",
    "\n",
    "What happens if you pick $x=0$ as the starting point?  How about\n",
    "$x=0.5$?"
   ]
  },
  {
   "cell_type": "code",
   "execution_count": 36,
   "metadata": {},
   "outputs": [
    {
     "name": "stdout",
     "output_type": "stream",
     "text": [
      "newton (f_bench2, fp_bench2, 0.5, 1e-10, verbose=True)\n",
      "iteration 1 (newton): root -0.75 error -1.25\n",
      "iteration 2 (newton): root 0.29166666666666674 error 1.0416666666666667\n",
      "iteration 3 (newton): root -1.5684523809523803 error -1.860119047619047\n",
      "iteration 4 (newton): root -0.4654406117285619 error 1.1030117692238184\n",
      "iteration 5 (newton): root 0.841530602630985 error 1.3069712143595469\n",
      "iteration 6 (newton): root -0.1733901559391644 error -1.0149207585701494\n",
      "iteration 7 (newton): root 2.7969749740686076 error 2.970365130007772\n",
      "iteration 8 (newton): root 1.2197229272382335 error -1.5772520468303741\n",
      "iteration 9 (newton): root 0.1999322995161441 error -1.0197906277220894\n",
      "iteration 10 (newton): root -2.4008803928468465 error -2.6008126923629904\n",
      "iteration 11 (newton): root -0.992183258056275 error 1.4086971347905715\n",
      "iteration 12 (newton): root 0.007847533359584213 error 1.0000307914158593\n",
      "iteration 13 (newton): root -63.71036416168544 error -63.71821169504503\n",
      "iteration 14 (newton): root -31.847334064172603 error 31.863030097512837\n",
      "iteration 15 (newton): root -15.907967130832636 error 15.939366933339967\n",
      "iteration 16 (newton): root -7.922552773795502 error 7.9854143570371345\n",
      "iteration 17 (newton): root -3.898165415689861 error 4.024387358105641\n",
      "iteration 18 (newton): root -1.8208172427655032 error 2.0773481729243577\n",
      "iteration 19 (newton): root -0.6358066524116166 error 1.1850105903538866\n",
      "iteration 20 (newton): root 0.46849926663196473 error 1.1043059190435813\n",
      "iteration 21 (newton): root -0.8329878964127055 error -1.3014871630446703\n",
      "iteration 22 (newton): root 0.1837548695174933 error 1.0167427659301989\n",
      "iteration 23 (newton): root -2.629138891572678 error -2.812893761090171\n",
      "iteration 24 (newton): root -1.124393110255844 error 1.5047457813168341\n",
      "iteration 25 (newton): root -0.11751222236264014 error 1.0068808878932038\n",
      "iteration 26 (newton): root 4.196120445037751 error 4.313632667400391\n",
      "iteration 27 (newton): root 1.9789025370927362 error -2.217217907945015\n",
      "iteration 28 (newton): root 0.736785970166103 error -1.2421165669266332\n",
      "iteration 29 (newton): root -0.31023014326897 error -1.047016113435073\n",
      "iteration 30 (newton): root 1.4565916269196242 error 1.7668217701885942\n",
      "iteration 31 (newton): root 0.3850287022397705 error -1.0715629246798537\n",
      "iteration 32 (newton): root -1.1060901349649808 error -1.4911188372047512\n",
      "iteration 33 (newton): root -0.10100234131186947 error 1.0050877936531113\n",
      "iteration 34 (newton): root 4.899879122570412 error 5.000881463882282\n",
      "iteration 35 (newton): root 2.3478962276656397 error -2.5519828949047723\n",
      "iteration 36 (newton): root 0.9609915128943205 error -1.3869047147713192\n",
      "iteration 37 (newton): root -0.039800201728471096 error -1.0007917146227916\n",
      "iteration 38 (newton): root 12.542850294501845 error 12.582650496230317\n",
      "iteration 39 (newton): root 6.231561799745357 error -6.311288494756488\n",
      "iteration 40 (newton): root 3.0355441925964333 error -3.196017607148924\n",
      "iteration 41 (newton): root 1.3530569848465437 error -1.6824872077498896\n",
      "iteration 42 (newton): root 0.3069949061813686 error -1.046062078665175\n",
      "iteration 43 (newton): root -1.4751940656689349 error -1.7821889718503034\n",
      "iteration 44 (newton): root -0.3986585761011343 error 1.0765354895678005\n",
      "iteration 45 (newton): root 1.054876766889931 error 1.4535353429910653\n",
      "iteration 46 (newton): root 0.05344936814591916 error -1.0014273987440119\n",
      "iteration 47 (newton): root -9.327922851422272 error -9.381372219568192\n",
      "iteration 48 (newton): root -4.610358924064828 error 4.717563927357444\n",
      "iteration 49 (newton): root -2.1967280359644485 error 2.4136308881003794\n",
      "iteration 50 (newton): root -0.8707527744354187 error 1.32597526152903\n",
      "iteration 51 (newton): root 0.13883941166296787 error 1.0095921860983865\n",
      "iteration 52 (newton): root -3.531863200881979 error -3.6707026125449467\n",
      "iteration 53 (newton): root -1.6243632634014518 error 1.9074999374805273\n",
      "iteration 54 (newton): root -0.5043687112379784 error 1.1199945521634733\n",
      "iteration 55 (newton): root 0.7391539031971546 error 1.243522614435133\n",
      "iteration 56 (newton): root -0.30687215844100657 error -1.0460260616381611\n",
      "iteration 57 (newton): root 1.4759069101863398 error 1.7827790686273464\n",
      "iteration 58 (newton): root 0.3991787013813164 error -1.0767282088050234\n",
      "iteration 59 (newton): root -1.0529824881118681 error -1.4521611894931845\n",
      "iteration 60 (newton): root -0.05164953904660985 error 1.0013329490652583\n",
      "iteration 61 (newton): root 9.654803736159726 error 9.706453275206336\n",
      "iteration 62 (newton): root 4.775614176308629 error -4.879189559851097\n",
      "iteration 63 (newton): root 2.283108512946867 error -2.492505663361762\n",
      "iteration 64 (newton): root 0.9225545912518112 error -1.360553921695056\n",
      "iteration 65 (newton): root -0.08069605179579198 error -1.0032506430476031\n",
      "iteration 66 (newton): root 6.1557419794135315 error 6.236438031209324\n",
      "iteration 67 (newton): root 2.996646012819798 error -3.1590959665937337\n",
      "iteration 68 (newton): root 1.3314697985698754 error -1.6651762142499225\n",
      "iteration 69 (newton): root 0.29021004657175764 error -1.0412597519981177\n",
      "iteration 70 (newton): root -1.5777850210336912 error -1.8679950676054489\n",
      "iteration 71 (newton): root -0.4719925568891814 error 1.1057924641445098\n",
      "iteration 72 (newton): root 0.8233424604868251 error 1.2953350173760065\n",
      "iteration 73 (newton): root -0.1956094870711791 error -1.0189519475580042\n",
      "iteration 74 (newton): root 2.458308497628722 error 2.653917984699901\n",
      "iteration 75 (newton): root 1.0257623635069235 error -1.4325461341217984\n",
      "iteration 76 (newton): root 0.025438848335634923 error -1.0003235151712886\n",
      "iteration 77 (newton): root -19.642258403566483 error -19.66769725190212\n",
      "iteration 78 (newton): root -9.795673880418098 error 9.846584523148385\n",
      "iteration 79 (newton): root -4.846793999610596 error 4.948879880807502\n",
      "iteration 80 (newton): root -2.320236023696107 error 2.526557975914489\n",
      "iteration 81 (newton): root -0.9446226937452398 error 1.375613329950867\n",
      "iteration 82 (newton): root 0.057000518394559 error 1.0016232121397988\n",
      "iteration 83 (newton): root -8.74334978853365 error -8.800350306928209\n",
      "iteration 84 (newton): root -4.314488574138615 error 4.4288612143950346\n",
      "iteration 85 (newton): root -2.0413556964731847 error 2.27313287766543\n",
      "iteration 86 (newton): root -0.7757425824895001 error 1.2656131139836846\n",
      "iteration 87 (newton): root 0.2566724160188223 error 1.0324149985083224\n",
      "iteration 88 (newton): root -1.8196721045134823 error -2.0763445205323046\n",
      "iteration 89 (newton): root -0.6350612734601608 error 1.1846108310533214\n",
      "iteration 90 (newton): root 0.46979496616131744 error 1.1048562396214783\n",
      "iteration 91 (newton): root -0.8293965941536872 error -1.2991915603150046\n",
      "iteration 92 (newton): root 0.18814960888809207 error 1.0175462030417792\n",
      "iteration 93 (newton): root -2.563384878596756 error -2.751534487484848\n",
      "iteration 94 (newton): root -1.0866378440345916 error 1.4767470345621643\n",
      "iteration 95 (newton): root -0.08318401806112252 error 1.003453825973469\n",
      "iteration 96 (newton): root 5.969177988069201 error 6.052362006130323\n",
      "iteration 97 (newton): root 2.9008253667815067 error -3.068352621287694\n",
      "iteration 98 (newton): root 1.278047946883104 error -1.6227774198984026\n",
      "iteration 99 (newton): root 0.24780234422224368 error -1.0302456026608604\n",
      "iteration 100 (newton): root -1.8938359948608365 error -2.14163833908308\n",
      "iteration 101 (newton): root -0.682903583639143 error 1.2109324112216935\n",
      "None\n",
      "newton (f_bench2, fp_bench2, 0, 1e-10, verbose=True)\n"
     ]
    },
    {
     "ename": "ZeroDivisionError",
     "evalue": "division by zero",
     "output_type": "error",
     "traceback": [
      "\u001b[1;31m---------------------------------------------------------------------------\u001b[0m",
      "\u001b[1;31mZeroDivisionError\u001b[0m                         Traceback (most recent call last)",
      "\u001b[1;32m<ipython-input-36-cd60e5c17dc7>\u001b[0m in \u001b[0;36m<module>\u001b[1;34m()\u001b[0m\n\u001b[0;32m     12\u001b[0m \u001b[1;33m\u001b[0m\u001b[0m\n\u001b[0;32m     13\u001b[0m     \u001b[0mprint\u001b[0m\u001b[1;33m(\u001b[0m\u001b[1;34m\"newton (f_bench2, fp_bench2, 0, 1e-10, verbose=True)\"\u001b[0m\u001b[1;33m)\u001b[0m\u001b[1;33m\u001b[0m\u001b[0m\n\u001b[1;32m---> 14\u001b[1;33m     \u001b[0mprint\u001b[0m\u001b[1;33m(\u001b[0m\u001b[0mnewton\u001b[0m \u001b[1;33m(\u001b[0m\u001b[0mf_bench2\u001b[0m\u001b[1;33m,\u001b[0m \u001b[0mfp_bench2\u001b[0m\u001b[1;33m,\u001b[0m \u001b[1;36m0\u001b[0m\u001b[1;33m,\u001b[0m \u001b[1;36m1e-10\u001b[0m\u001b[1;33m,\u001b[0m \u001b[0mverbose\u001b[0m\u001b[1;33m=\u001b[0m\u001b[1;32mTrue\u001b[0m\u001b[1;33m)\u001b[0m\u001b[1;33m)\u001b[0m\u001b[1;33m\u001b[0m\u001b[0m\n\u001b[0m",
      "\u001b[1;32m<ipython-input-29-b0a0adb99f36>\u001b[0m in \u001b[0;36mnewton\u001b[1;34m(f, fp, x_guess, tolerance, verbose, max_iterations, *args)\u001b[0m\n\u001b[0;32m     34\u001b[0m \u001b[1;33m\u001b[0m\u001b[0m\n\u001b[0;32m     35\u001b[0m         \u001b[0miteration_count\u001b[0m \u001b[1;33m+=\u001b[0m \u001b[1;36m1\u001b[0m\u001b[1;33m\u001b[0m\u001b[0m\n\u001b[1;32m---> 36\u001b[1;33m         \u001b[0mxCur\u001b[0m \u001b[1;33m=\u001b[0m \u001b[0mx\u001b[0m \u001b[1;33m-\u001b[0m \u001b[0mf\u001b[0m \u001b[1;33m(\u001b[0m\u001b[0mx\u001b[0m\u001b[1;33m,\u001b[0m \u001b[1;33m*\u001b[0m\u001b[0margs\u001b[0m\u001b[1;33m)\u001b[0m \u001b[1;33m/\u001b[0m \u001b[0mfp\u001b[0m \u001b[1;33m(\u001b[0m\u001b[0mx\u001b[0m\u001b[1;33m,\u001b[0m \u001b[1;33m*\u001b[0m\u001b[0margs\u001b[0m\u001b[1;33m)\u001b[0m\u001b[1;33m\u001b[0m\u001b[0m\n\u001b[0m\u001b[0;32m     37\u001b[0m         \u001b[0merror\u001b[0m \u001b[1;33m=\u001b[0m \u001b[0mxCur\u001b[0m \u001b[1;33m-\u001b[0m \u001b[0mx\u001b[0m\u001b[1;33m\u001b[0m\u001b[0m\n\u001b[0;32m     38\u001b[0m         \u001b[0mx\u001b[0m \u001b[1;33m=\u001b[0m \u001b[0mxCur\u001b[0m\u001b[1;33m\u001b[0m\u001b[0m\n",
      "\u001b[1;31mZeroDivisionError\u001b[0m: division by zero"
     ]
    }
   ],
   "source": [
    "#your code here\n",
    "if (__name__ == \"__main__\"):\n",
    "    def f_bench2 (x):\n",
    "        return x * x + 1\n",
    "    \n",
    "    def fp_bench2 (x):\n",
    "        return 2 * x\n",
    "    \n",
    "    # newton tests\n",
    "    print(\"newton (f_bench2, fp_bench2, 0.5, 1e-10, verbose=True)\")\n",
    "    print(newton (f_bench2, fp_bench2, 0.5, 1e-10, verbose=True))\n",
    "    \n",
    "    print(\"newton (f_bench2, fp_bench2, 0, 1e-10, verbose=True)\")\n",
    "    print(newton (f_bench2, fp_bench2, 0, 1e-10, verbose=True))"
   ]
  },
  {
   "cell_type": "markdown",
   "metadata": {},
   "source": [
    "<div class=answer>\n",
    "<div/>\n",
    "\n",
    "When the guess is x = 0 we run into an error caused by the derivative of the function evaluated at x = 0 is itself 0. Since we choose our next x-position based upon the equation $x_cur = x - f(x) / f'(x)$ we end up with a division by zero. This shows certain guesses for the initial x-value are incompatable with this root finding method."
   ]
  },
  {
   "cell_type": "markdown",
   "metadata": {},
   "source": [
    "*Comment:* Notice that we were applying a rootfinding method, to a function which\n",
    "had no root. A physics professor of mine promulgated this bit of wisdom:\n",
    "\n",
    "    **First rule: Think before you try cranking away!**\n",
    "\n",
    "But, even if we were immune to being so silly as to ever attempt this, there is\n",
    "a lesson to be learned.  What if our function *had* a root, off somewhere far away from the initial guess point, but the guess point landed us near a local minimum in the function?  Our function would locally look just like this parabola, and the Newton-Raphson method could become trapped oscillating around the minimum, in just this fashion.\n",
    "\n",
    "**Summary:** Here is an attempt at summarizing the lessons we have learned.  When it works, Newton-Raphson converges much more rapidly than bisection.  However, sometimes it jumps around before converging.  Sometimes it just oscillates, without converging.  Or, if the starting point is not close enough to a root, the method may go\n",
    "completely astray.\n",
    "\n",
    "**When it's good, it's very, very good.  When it's bad, it's horrid.**"
   ]
  },
  {
   "cell_type": "markdown",
   "metadata": {},
   "source": [
    "## Exericise 8 - The Lagrange Point.  \n",
    "Work out Newman's Exercise 6.16 below **in a lab format**.  As in the percolation problem, \n",
    "* plot and label the numerical function you are trying to solve before \"cranking away.\"  \n",
    "* write a thoughtful description about each plot\n",
    "* take note of the tolerance you choose and the number of steps required to solve.\n",
    "\n",
    "You can use the astropy version of the constants library, you may have to install astropy to use them, but I did not\n",
    "http://docs.astropy.org/en/stable/constants/"
   ]
  },
  {
   "cell_type": "code",
   "execution_count": 37,
   "metadata": {},
   "outputs": [
    {
     "name": "stdout",
     "output_type": "stream",
     "text": [
      "6.67408e-11\n",
      "Note that you can do arithmetic with the 'Value': 5*G =\n",
      "3.3370400000000003e-10\n"
     ]
    }
   ],
   "source": [
    "from astropy import constants as a_const\n",
    "\n",
    "print(const.G)\n",
    "print(\"Note that you can do arithmetic with the 'Value': 5*G =\")\n",
    "print(const.G*5)\n",
    "\n"
   ]
  },
  {
   "cell_type": "markdown",
   "metadata": {
    "collapsed": true
   },
   "source": [
    "$F_T = F_{centripetal} = \\sum F - m\\frac{v^2}{r} = F_{earth} - F_{moon} - m\\frac{v^2}{r}$\n",
    "\n",
    "$0 = G\\frac{m_E m_s}{r^2} - G\\frac{m_M m_s}{(R - r)^2} - m_s\\frac{v^2}{r}$\n",
    "\n",
    "Where $v^2 / r = \\omega^2 r$\n",
    "\n",
    "$\\omega^2r = G\\frac{m_E}{r^2} - G\\frac{m_M}{(R - r)^2}$"
   ]
  },
  {
   "cell_type": "code",
   "execution_count": 60,
   "metadata": {
    "collapsed": true
   },
   "outputs": [],
   "source": [
    "massMoon = 7.348e22 #kg\n",
    "massEarth = 5.974e24 #kg\n",
    "rMoon = 3.844e8 #m\n",
    "\n",
    "def lagrangePoint (rEarth, omega):\n",
    "    \"\"\"\n",
    "    Description: returns the force on a satellite in orbit between the Earth and the moon.\n",
    "    \n",
    "    Parameters: rEarth - radius of satellite from the earth\n",
    "                omega - frequency of rotation of satellite\n",
    "    \n",
    "    Returned: force on a satellite in orbit\n",
    "    \"\"\"\n",
    "    \n",
    "    forceEarth = const.G * massEarth / (rEarth * rEarth)\n",
    "    forceMoon = const.G * massMoon / ((rMoon - rEarth) * (rMoon - rEarth))\n",
    "    forceCent = omega * omega * rEarth\n",
    "    \n",
    "    return forceEarth - forceMoon - forceCent\n",
    "\n",
    "def lagrangePointDeriv (rEarth, omega):\n",
    "    \"\"\"\n",
    "    Description: returns the derivative of the lagrangePoint function\n",
    "    \n",
    "    Parameters: rEarth - radius of satellite from the earth\n",
    "                omega - frequency of rotation of satellite\n",
    "    \n",
    "    Returned: returns the derivative of the lagrangePoint function\n",
    "    \"\"\"\n",
    "    \n",
    "    forceEarthDeriv = -2 * const.G * massEarth / (rEarth**3)\n",
    "    forceMoonDeriv = 2 * const.G * massMoon / ((rMoon - rEarth)**3)\n",
    "    forceCentDeriv = omega * omega\n",
    "    \n",
    "    return forceEarthDeriv - forceMoonDeriv - forceCentDeriv\n",
    "\n",
    "\n",
    "\n"
   ]
  },
  {
   "cell_type": "code",
   "execution_count": 83,
   "metadata": {},
   "outputs": [
    {
     "name": "stdout",
     "output_type": "stream",
     "text": [
      "38440000.0 372868000.0\n",
      "0.269516403968\n"
     ]
    },
    {
     "data": {
      "text/plain": [
       "Text(0,0.5,'Force on a Satellite (N)')"
      ]
     },
     "execution_count": 83,
     "metadata": {},
     "output_type": "execute_result"
    },
    {
     "data": {
      "image/png": "[encoded data removed]",
      "text/plain": [
       "<matplotlib.figure.Figure at 0xd4da400>"
      ]
     },
     "metadata": {},
     "output_type": "display_data"
    }
   ],
   "source": [
    "#define the x-range\n",
    "rMoon = 3.844e8 #m\n",
    "omega = 2.662e-6 #rad/sec\n",
    "print (rMoon * 0.1, 0.97 * rMoon)\n",
    "xValues = np.linspace(0.1 * rMoon, .97 * rMoon)\n",
    "yValues = []\n",
    "\n",
    "for x in xValues:\n",
    "    yValues.append (lagrangePoint (x, omega))\n",
    "\n",
    "#set up the plot\n",
    "fig = plt.figure(figsize=(7,7))\n",
    "\n",
    "#plot the function\n",
    "plt.plot(xValues, yValues)\n",
    "#plot y = 0\n",
    "plt.axhline(y=0,ls='--',color='gray')\n",
    "print (yValues[0])\n",
    "#add good labels\n",
    "plt.title (\"Force on Satellite in Orbit\")\n",
    "plt.xlabel(\"Radius from Earth (m)\")\n",
    "plt.ylabel(\"Force on a Satellite (N)\")"
   ]
  },
  {
   "cell_type": "markdown",
   "metadata": {},
   "source": [
    "The x-axis is the radius of the satellite from Earth and ranges from 3.844e7 to 3.729e8m. The y-axis is the force on the satellite from the Earth, moon, and $mv^2$. The y-axis ranges from -0.05 to 0.27N. The graph is given by a blue line that starts at 0.27N and is decreasing at a high rate. The function's slope decreases in magnitude with an increase in the radius until around r=3.26e8m at which point it crosses y=0 and the slope begans to decreases rapidly."
   ]
  },
  {
   "cell_type": "code",
   "execution_count": 62,
   "metadata": {},
   "outputs": [
    {
     "name": "stdout",
     "output_type": "stream",
     "text": [
      "iteration 1 (newton): root 326061057.9602426 error 1061057.960242629\n",
      "iteration 2 (newton): root 326045423.82078785 error -15634.13945478201\n",
      "iteration 3 (newton): root 326045420.240324 error -3.5804638266563416\n",
      "iteration 4 (newton): root 326045420.24032384 error -1.7881393432617188e-07\n",
      "326045420.24032384\n"
     ]
    }
   ],
   "source": [
    "omega = 2.662e-6 #rad/sec\n",
    "m_M = 7.348e22 #kg\n",
    "m_E = 5.974e24 #kg\n",
    "r_Moon = 3.844e8 #m\n",
    "\n",
    "G = const.G\n",
    "\n",
    "\n",
    "rGuess = 3.25e8 #m\n",
    "tolerance = 1e-4\n",
    "\n",
    "print(newton (lagrangePoint, lagrangePointDeriv, rGuess, tolerance, omega, max_iterations = 1000, verbose = True))\n"
   ]
  },
  {
   "cell_type": "code",
   "execution_count": null,
   "metadata": {
    "collapsed": true
   },
   "outputs": [],
   "source": []
  }
 ],
 "metadata": {
  "kernelspec": {
   "display_name": "Python 3",
   "language": "python",
   "name": "python3"
  },
  "language_info": {
   "codemirror_mode": {
    "name": "ipython",
    "version": 3
   },
   "file_extension": ".py",
   "mimetype": "text/x-python",
   "name": "python",
   "nbconvert_exporter": "python",
   "pygments_lexer": "ipython3",
   "version": "3.6.3"
  }
 },
 "nbformat": 4,
 "nbformat_minor": 2
}
